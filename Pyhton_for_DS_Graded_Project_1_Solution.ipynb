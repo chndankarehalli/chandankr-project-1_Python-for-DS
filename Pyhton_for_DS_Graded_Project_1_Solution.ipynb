{
  "nbformat": 4,
  "nbformat_minor": 0,
  "metadata": {
    "colab": {
      "provenance": [],
      "collapsed_sections": [],
      "authorship_tag": "ABX9TyOrwn+I98JBUy30uJ1uWhy6"
    },
    "kernelspec": {
      "name": "python3",
      "display_name": "Python 3"
    },
    "language_info": {
      "name": "python"
    }
  },
  "cells": [
    {
      "cell_type": "markdown",
      "source": [
        "## **Load and explore data**"
      ],
      "metadata": {
        "id": "sxNXYnIwpEaf"
      }
    },
    {
      "cell_type": "markdown",
      "source": [
        "# 1. Import the required libraries and read the dataset. "
      ],
      "metadata": {
        "id": "bia97izppIry"
      }
    },
    {
      "cell_type": "code",
      "execution_count": 1,
      "metadata": {
        "id": "HXIF3EXAo1mJ"
      },
      "outputs": [],
      "source": [
        "import numpy as np\n",
        "import pandas as pd \n",
        "import matplotlib.pyplot as plt\n",
        "import seaborn as sns"
      ]
    },
    {
      "cell_type": "markdown",
      "source": [
        "Load the dataset"
      ],
      "metadata": {
        "id": "bXErTmY_piHm"
      }
    },
    {
      "cell_type": "code",
      "source": [
        "from google.colab import drive\n",
        "drive.mount('/content/drive')"
      ],
      "metadata": {
        "colab": {
          "base_uri": "https://localhost:8080/"
        },
        "id": "GXuJUBJSpi-z",
        "outputId": "9b07a088-9b30-4b65-b2b1-18a84603a54f"
      },
      "execution_count": 2,
      "outputs": [
        {
          "output_type": "stream",
          "name": "stdout",
          "text": [
            "Mounted at /content/drive\n"
          ]
        }
      ]
    },
    {
      "cell_type": "code",
      "source": [
        "df = pd.read_csv('/content/drive/MyDrive/fifa.csv')"
      ],
      "metadata": {
        "id": "grqzy9V8p5lt"
      },
      "execution_count": 3,
      "outputs": []
    },
    {
      "cell_type": "markdown",
      "source": [
        "Load the dataset variable information."
      ],
      "metadata": {
        "id": "FGZuK4heqSe6"
      }
    },
    {
      "cell_type": "code",
      "source": [
        "df_var =pd.read_csv(\"/content/drive/MyDrive/fifa_ variable_information.csv\")"
      ],
      "metadata": {
        "id": "56lPXM5Mp53S"
      },
      "execution_count": 4,
      "outputs": []
    },
    {
      "cell_type": "markdown",
      "source": [
        "# 2. Check the first few samples, shape, info of the data and try to familiarize yourself with different features."
      ],
      "metadata": {
        "id": "jT-94_-Iqp3L"
      }
    },
    {
      "cell_type": "markdown",
      "source": [
        "Dataset variable information."
      ],
      "metadata": {
        "id": "7gPNbIZcrcfz"
      }
    },
    {
      "cell_type": "code",
      "source": [
        "df_var"
      ],
      "metadata": {
        "colab": {
          "base_uri": "https://localhost:8080/",
          "height": 1000
        },
        "id": "-f2WQex4qrIu",
        "outputId": "923d1727-4115-48da-d20a-3476cdd1f310"
      },
      "execution_count": 5,
      "outputs": [
        {
          "output_type": "execute_result",
          "data": {
            "text/plain": [
              "                          ID          unique id for every player\n",
              "0                       Name                                name\n",
              "1                        Age                                 age\n",
              "2                      Photo           url to the player's photo\n",
              "3                Nationality                         nationality\n",
              "4                       Flag       url to players's country flag\n",
              "5                    Overall                      overall rating\n",
              "6                  Potential                    potential rating\n",
              "7                       Club                        current club\n",
              "8                  Club Logo                    url to club logo\n",
              "9                      Value                current market value\n",
              "10                      Wage                        current wage\n",
              "11            Preferred Foot                          left/right\n",
              "12  International Reputation                rating on scale of 5\n",
              "13                 Weak Foot                rating on scale of 5\n",
              "14               Skill Moves                rating on scale of 5\n",
              "15                 Work Rate  attack work rate/defence work rate\n",
              "16                 Body Type                 body type of player\n",
              "17                  Position               position on the pitch\n",
              "18             Jersey Number                       jersey number\n",
              "19                    Joined                         joined date\n",
              "20               Loaned From             club name if applicable\n",
              "21      Contract Valid Until                   contract end date\n",
              "22                    Height                height of the player\n",
              "23                    Weight                weight of the player\n",
              "24                  Crossing              rating on scale of 100\n",
              "25                 Finishing              rating on scale of 100\n",
              "26           HeadingAccuracy              rating on scale of 100\n",
              "27              ShortPassing              rating on scale of 100\n",
              "28                   Volleys              rating on scale of 100\n",
              "29                 Dribbling              rating on scale of 100\n",
              "30                     Curve              rating on scale of 100\n",
              "31                FKAccuracy              rating on scale of 100\n",
              "32               LongPassing              rating on scale of 100\n",
              "33               BallControl              rating on scale of 100\n",
              "34              Acceleration              rating on scale of 100\n",
              "35               SprintSpeed              rating on scale of 100\n",
              "36                   Agility              rating on scale of 100\n",
              "37                 Reactions             rating on scale of 100\\\n",
              "38                   Balance              rating on scale of 100\n",
              "39                 ShotPower              rating on scale of 100\n",
              "40                   Jumping              rating on scale of 100\n",
              "41                   Stamina              rating on scale of 100\n",
              "42                  Strength              rating on scale of 100\n",
              "43                 LongShots              rating on scale of 100\n",
              "44                Aggression              rating on scale of 100\n",
              "45             Interceptions              rating on scale of 100\n",
              "46               Positioning              rating on scale of 100\n",
              "47                    Vision              rating on scale of 100\n",
              "48                 Penalties              rating on scale of 100\n",
              "49                 Composure              rating on scale of 100\n",
              "50                   Marking              rating on scale of 100\n",
              "51            StandingTackle              rating on scale of 100\n",
              "52             SlidingTackle              rating on scale of 100\n",
              "53                  GKDiving              rating on scale of 100\n",
              "54                GKHandling              rating on scale of 100\n",
              "55                 GKKicking              rating on scale of 100\n",
              "56             GKPositioning              rating on scale of 100\n",
              "57                GKReflexes              rating on scale of 100\n",
              "58            Release Clause                release clause value"
            ],
            "text/html": [
              "\n",
              "  <div id=\"df-df6375f6-305e-4b32-b7dd-8a763d821d27\">\n",
              "    <div class=\"colab-df-container\">\n",
              "      <div>\n",
              "<style scoped>\n",
              "    .dataframe tbody tr th:only-of-type {\n",
              "        vertical-align: middle;\n",
              "    }\n",
              "\n",
              "    .dataframe tbody tr th {\n",
              "        vertical-align: top;\n",
              "    }\n",
              "\n",
              "    .dataframe thead th {\n",
              "        text-align: right;\n",
              "    }\n",
              "</style>\n",
              "<table border=\"1\" class=\"dataframe\">\n",
              "  <thead>\n",
              "    <tr style=\"text-align: right;\">\n",
              "      <th></th>\n",
              "      <th>ID</th>\n",
              "      <th>unique id for every player</th>\n",
              "    </tr>\n",
              "  </thead>\n",
              "  <tbody>\n",
              "    <tr>\n",
              "      <th>0</th>\n",
              "      <td>Name</td>\n",
              "      <td>name</td>\n",
              "    </tr>\n",
              "    <tr>\n",
              "      <th>1</th>\n",
              "      <td>Age</td>\n",
              "      <td>age</td>\n",
              "    </tr>\n",
              "    <tr>\n",
              "      <th>2</th>\n",
              "      <td>Photo</td>\n",
              "      <td>url to the player's photo</td>\n",
              "    </tr>\n",
              "    <tr>\n",
              "      <th>3</th>\n",
              "      <td>Nationality</td>\n",
              "      <td>nationality</td>\n",
              "    </tr>\n",
              "    <tr>\n",
              "      <th>4</th>\n",
              "      <td>Flag</td>\n",
              "      <td>url to players's country flag</td>\n",
              "    </tr>\n",
              "    <tr>\n",
              "      <th>5</th>\n",
              "      <td>Overall</td>\n",
              "      <td>overall rating</td>\n",
              "    </tr>\n",
              "    <tr>\n",
              "      <th>6</th>\n",
              "      <td>Potential</td>\n",
              "      <td>potential rating</td>\n",
              "    </tr>\n",
              "    <tr>\n",
              "      <th>7</th>\n",
              "      <td>Club</td>\n",
              "      <td>current club</td>\n",
              "    </tr>\n",
              "    <tr>\n",
              "      <th>8</th>\n",
              "      <td>Club Logo</td>\n",
              "      <td>url to club logo</td>\n",
              "    </tr>\n",
              "    <tr>\n",
              "      <th>9</th>\n",
              "      <td>Value</td>\n",
              "      <td>current market value</td>\n",
              "    </tr>\n",
              "    <tr>\n",
              "      <th>10</th>\n",
              "      <td>Wage</td>\n",
              "      <td>current wage</td>\n",
              "    </tr>\n",
              "    <tr>\n",
              "      <th>11</th>\n",
              "      <td>Preferred Foot</td>\n",
              "      <td>left/right</td>\n",
              "    </tr>\n",
              "    <tr>\n",
              "      <th>12</th>\n",
              "      <td>International Reputation</td>\n",
              "      <td>rating on scale of 5</td>\n",
              "    </tr>\n",
              "    <tr>\n",
              "      <th>13</th>\n",
              "      <td>Weak Foot</td>\n",
              "      <td>rating on scale of 5</td>\n",
              "    </tr>\n",
              "    <tr>\n",
              "      <th>14</th>\n",
              "      <td>Skill Moves</td>\n",
              "      <td>rating on scale of 5</td>\n",
              "    </tr>\n",
              "    <tr>\n",
              "      <th>15</th>\n",
              "      <td>Work Rate</td>\n",
              "      <td>attack work rate/defence work rate</td>\n",
              "    </tr>\n",
              "    <tr>\n",
              "      <th>16</th>\n",
              "      <td>Body Type</td>\n",
              "      <td>body type of player</td>\n",
              "    </tr>\n",
              "    <tr>\n",
              "      <th>17</th>\n",
              "      <td>Position</td>\n",
              "      <td>position on the pitch</td>\n",
              "    </tr>\n",
              "    <tr>\n",
              "      <th>18</th>\n",
              "      <td>Jersey Number</td>\n",
              "      <td>jersey number</td>\n",
              "    </tr>\n",
              "    <tr>\n",
              "      <th>19</th>\n",
              "      <td>Joined</td>\n",
              "      <td>joined date</td>\n",
              "    </tr>\n",
              "    <tr>\n",
              "      <th>20</th>\n",
              "      <td>Loaned From</td>\n",
              "      <td>club name if applicable</td>\n",
              "    </tr>\n",
              "    <tr>\n",
              "      <th>21</th>\n",
              "      <td>Contract Valid Until</td>\n",
              "      <td>contract end date</td>\n",
              "    </tr>\n",
              "    <tr>\n",
              "      <th>22</th>\n",
              "      <td>Height</td>\n",
              "      <td>height of the player</td>\n",
              "    </tr>\n",
              "    <tr>\n",
              "      <th>23</th>\n",
              "      <td>Weight</td>\n",
              "      <td>weight of the player</td>\n",
              "    </tr>\n",
              "    <tr>\n",
              "      <th>24</th>\n",
              "      <td>Crossing</td>\n",
              "      <td>rating on scale of 100</td>\n",
              "    </tr>\n",
              "    <tr>\n",
              "      <th>25</th>\n",
              "      <td>Finishing</td>\n",
              "      <td>rating on scale of 100</td>\n",
              "    </tr>\n",
              "    <tr>\n",
              "      <th>26</th>\n",
              "      <td>HeadingAccuracy</td>\n",
              "      <td>rating on scale of 100</td>\n",
              "    </tr>\n",
              "    <tr>\n",
              "      <th>27</th>\n",
              "      <td>ShortPassing</td>\n",
              "      <td>rating on scale of 100</td>\n",
              "    </tr>\n",
              "    <tr>\n",
              "      <th>28</th>\n",
              "      <td>Volleys</td>\n",
              "      <td>rating on scale of 100</td>\n",
              "    </tr>\n",
              "    <tr>\n",
              "      <th>29</th>\n",
              "      <td>Dribbling</td>\n",
              "      <td>rating on scale of 100</td>\n",
              "    </tr>\n",
              "    <tr>\n",
              "      <th>30</th>\n",
              "      <td>Curve</td>\n",
              "      <td>rating on scale of 100</td>\n",
              "    </tr>\n",
              "    <tr>\n",
              "      <th>31</th>\n",
              "      <td>FKAccuracy</td>\n",
              "      <td>rating on scale of 100</td>\n",
              "    </tr>\n",
              "    <tr>\n",
              "      <th>32</th>\n",
              "      <td>LongPassing</td>\n",
              "      <td>rating on scale of 100</td>\n",
              "    </tr>\n",
              "    <tr>\n",
              "      <th>33</th>\n",
              "      <td>BallControl</td>\n",
              "      <td>rating on scale of 100</td>\n",
              "    </tr>\n",
              "    <tr>\n",
              "      <th>34</th>\n",
              "      <td>Acceleration</td>\n",
              "      <td>rating on scale of 100</td>\n",
              "    </tr>\n",
              "    <tr>\n",
              "      <th>35</th>\n",
              "      <td>SprintSpeed</td>\n",
              "      <td>rating on scale of 100</td>\n",
              "    </tr>\n",
              "    <tr>\n",
              "      <th>36</th>\n",
              "      <td>Agility</td>\n",
              "      <td>rating on scale of 100</td>\n",
              "    </tr>\n",
              "    <tr>\n",
              "      <th>37</th>\n",
              "      <td>Reactions</td>\n",
              "      <td>rating on scale of 100\\</td>\n",
              "    </tr>\n",
              "    <tr>\n",
              "      <th>38</th>\n",
              "      <td>Balance</td>\n",
              "      <td>rating on scale of 100</td>\n",
              "    </tr>\n",
              "    <tr>\n",
              "      <th>39</th>\n",
              "      <td>ShotPower</td>\n",
              "      <td>rating on scale of 100</td>\n",
              "    </tr>\n",
              "    <tr>\n",
              "      <th>40</th>\n",
              "      <td>Jumping</td>\n",
              "      <td>rating on scale of 100</td>\n",
              "    </tr>\n",
              "    <tr>\n",
              "      <th>41</th>\n",
              "      <td>Stamina</td>\n",
              "      <td>rating on scale of 100</td>\n",
              "    </tr>\n",
              "    <tr>\n",
              "      <th>42</th>\n",
              "      <td>Strength</td>\n",
              "      <td>rating on scale of 100</td>\n",
              "    </tr>\n",
              "    <tr>\n",
              "      <th>43</th>\n",
              "      <td>LongShots</td>\n",
              "      <td>rating on scale of 100</td>\n",
              "    </tr>\n",
              "    <tr>\n",
              "      <th>44</th>\n",
              "      <td>Aggression</td>\n",
              "      <td>rating on scale of 100</td>\n",
              "    </tr>\n",
              "    <tr>\n",
              "      <th>45</th>\n",
              "      <td>Interceptions</td>\n",
              "      <td>rating on scale of 100</td>\n",
              "    </tr>\n",
              "    <tr>\n",
              "      <th>46</th>\n",
              "      <td>Positioning</td>\n",
              "      <td>rating on scale of 100</td>\n",
              "    </tr>\n",
              "    <tr>\n",
              "      <th>47</th>\n",
              "      <td>Vision</td>\n",
              "      <td>rating on scale of 100</td>\n",
              "    </tr>\n",
              "    <tr>\n",
              "      <th>48</th>\n",
              "      <td>Penalties</td>\n",
              "      <td>rating on scale of 100</td>\n",
              "    </tr>\n",
              "    <tr>\n",
              "      <th>49</th>\n",
              "      <td>Composure</td>\n",
              "      <td>rating on scale of 100</td>\n",
              "    </tr>\n",
              "    <tr>\n",
              "      <th>50</th>\n",
              "      <td>Marking</td>\n",
              "      <td>rating on scale of 100</td>\n",
              "    </tr>\n",
              "    <tr>\n",
              "      <th>51</th>\n",
              "      <td>StandingTackle</td>\n",
              "      <td>rating on scale of 100</td>\n",
              "    </tr>\n",
              "    <tr>\n",
              "      <th>52</th>\n",
              "      <td>SlidingTackle</td>\n",
              "      <td>rating on scale of 100</td>\n",
              "    </tr>\n",
              "    <tr>\n",
              "      <th>53</th>\n",
              "      <td>GKDiving</td>\n",
              "      <td>rating on scale of 100</td>\n",
              "    </tr>\n",
              "    <tr>\n",
              "      <th>54</th>\n",
              "      <td>GKHandling</td>\n",
              "      <td>rating on scale of 100</td>\n",
              "    </tr>\n",
              "    <tr>\n",
              "      <th>55</th>\n",
              "      <td>GKKicking</td>\n",
              "      <td>rating on scale of 100</td>\n",
              "    </tr>\n",
              "    <tr>\n",
              "      <th>56</th>\n",
              "      <td>GKPositioning</td>\n",
              "      <td>rating on scale of 100</td>\n",
              "    </tr>\n",
              "    <tr>\n",
              "      <th>57</th>\n",
              "      <td>GKReflexes</td>\n",
              "      <td>rating on scale of 100</td>\n",
              "    </tr>\n",
              "    <tr>\n",
              "      <th>58</th>\n",
              "      <td>Release Clause</td>\n",
              "      <td>release clause value</td>\n",
              "    </tr>\n",
              "  </tbody>\n",
              "</table>\n",
              "</div>\n",
              "      <button class=\"colab-df-convert\" onclick=\"convertToInteractive('df-df6375f6-305e-4b32-b7dd-8a763d821d27')\"\n",
              "              title=\"Convert this dataframe to an interactive table.\"\n",
              "              style=\"display:none;\">\n",
              "        \n",
              "  <svg xmlns=\"http://www.w3.org/2000/svg\" height=\"24px\"viewBox=\"0 0 24 24\"\n",
              "       width=\"24px\">\n",
              "    <path d=\"M0 0h24v24H0V0z\" fill=\"none\"/>\n",
              "    <path d=\"M18.56 5.44l.94 2.06.94-2.06 2.06-.94-2.06-.94-.94-2.06-.94 2.06-2.06.94zm-11 1L8.5 8.5l.94-2.06 2.06-.94-2.06-.94L8.5 2.5l-.94 2.06-2.06.94zm10 10l.94 2.06.94-2.06 2.06-.94-2.06-.94-.94-2.06-.94 2.06-2.06.94z\"/><path d=\"M17.41 7.96l-1.37-1.37c-.4-.4-.92-.59-1.43-.59-.52 0-1.04.2-1.43.59L10.3 9.45l-7.72 7.72c-.78.78-.78 2.05 0 2.83L4 21.41c.39.39.9.59 1.41.59.51 0 1.02-.2 1.41-.59l7.78-7.78 2.81-2.81c.8-.78.8-2.07 0-2.86zM5.41 20L4 18.59l7.72-7.72 1.47 1.35L5.41 20z\"/>\n",
              "  </svg>\n",
              "      </button>\n",
              "      \n",
              "  <style>\n",
              "    .colab-df-container {\n",
              "      display:flex;\n",
              "      flex-wrap:wrap;\n",
              "      gap: 12px;\n",
              "    }\n",
              "\n",
              "    .colab-df-convert {\n",
              "      background-color: #E8F0FE;\n",
              "      border: none;\n",
              "      border-radius: 50%;\n",
              "      cursor: pointer;\n",
              "      display: none;\n",
              "      fill: #1967D2;\n",
              "      height: 32px;\n",
              "      padding: 0 0 0 0;\n",
              "      width: 32px;\n",
              "    }\n",
              "\n",
              "    .colab-df-convert:hover {\n",
              "      background-color: #E2EBFA;\n",
              "      box-shadow: 0px 1px 2px rgba(60, 64, 67, 0.3), 0px 1px 3px 1px rgba(60, 64, 67, 0.15);\n",
              "      fill: #174EA6;\n",
              "    }\n",
              "\n",
              "    [theme=dark] .colab-df-convert {\n",
              "      background-color: #3B4455;\n",
              "      fill: #D2E3FC;\n",
              "    }\n",
              "\n",
              "    [theme=dark] .colab-df-convert:hover {\n",
              "      background-color: #434B5C;\n",
              "      box-shadow: 0px 1px 3px 1px rgba(0, 0, 0, 0.15);\n",
              "      filter: drop-shadow(0px 1px 2px rgba(0, 0, 0, 0.3));\n",
              "      fill: #FFFFFF;\n",
              "    }\n",
              "  </style>\n",
              "\n",
              "      <script>\n",
              "        const buttonEl =\n",
              "          document.querySelector('#df-df6375f6-305e-4b32-b7dd-8a763d821d27 button.colab-df-convert');\n",
              "        buttonEl.style.display =\n",
              "          google.colab.kernel.accessAllowed ? 'block' : 'none';\n",
              "\n",
              "        async function convertToInteractive(key) {\n",
              "          const element = document.querySelector('#df-df6375f6-305e-4b32-b7dd-8a763d821d27');\n",
              "          const dataTable =\n",
              "            await google.colab.kernel.invokeFunction('convertToInteractive',\n",
              "                                                     [key], {});\n",
              "          if (!dataTable) return;\n",
              "\n",
              "          const docLinkHtml = 'Like what you see? Visit the ' +\n",
              "            '<a target=\"_blank\" href=https://colab.research.google.com/notebooks/data_table.ipynb>data table notebook</a>'\n",
              "            + ' to learn more about interactive tables.';\n",
              "          element.innerHTML = '';\n",
              "          dataTable['output_type'] = 'display_data';\n",
              "          await google.colab.output.renderOutput(dataTable, element);\n",
              "          const docLink = document.createElement('div');\n",
              "          docLink.innerHTML = docLinkHtml;\n",
              "          element.appendChild(docLink);\n",
              "        }\n",
              "      </script>\n",
              "    </div>\n",
              "  </div>\n",
              "  "
            ]
          },
          "metadata": {},
          "execution_count": 5
        }
      ]
    },
    {
      "cell_type": "markdown",
      "source": [
        "first five samples of Data"
      ],
      "metadata": {
        "id": "Qk2MiBwOrhe7"
      }
    },
    {
      "cell_type": "code",
      "source": [
        "df.head()"
      ],
      "metadata": {
        "colab": {
          "base_uri": "https://localhost:8080/",
          "height": 404
        },
        "id": "-4uPHEmZrn2G",
        "outputId": "5c823b28-0ec5-4b45-9f21-1746dec5b688"
      },
      "execution_count": 6,
      "outputs": [
        {
          "output_type": "execute_result",
          "data": {
            "text/plain": [
              "       ID               Name  Age  \\\n",
              "0  158023           L. Messi   31   \n",
              "1   20801  Cristiano Ronaldo   33   \n",
              "2  190871          Neymar Jr   26   \n",
              "3  193080             De Gea   27   \n",
              "4  192985       K. De Bruyne   27   \n",
              "\n",
              "                                            Photo Nationality  \\\n",
              "0  https://cdn.sofifa.org/players/4/19/158023.png   Argentina   \n",
              "1   https://cdn.sofifa.org/players/4/19/20801.png    Portugal   \n",
              "2  https://cdn.sofifa.org/players/4/19/190871.png      Brazil   \n",
              "3  https://cdn.sofifa.org/players/4/19/193080.png       Spain   \n",
              "4  https://cdn.sofifa.org/players/4/19/192985.png     Belgium   \n",
              "\n",
              "                                  Flag  Overall  Potential  \\\n",
              "0  https://cdn.sofifa.org/flags/52.png       94         94   \n",
              "1  https://cdn.sofifa.org/flags/38.png       94         94   \n",
              "2  https://cdn.sofifa.org/flags/54.png       92         93   \n",
              "3  https://cdn.sofifa.org/flags/45.png       91         93   \n",
              "4   https://cdn.sofifa.org/flags/7.png       91         92   \n",
              "\n",
              "                  Club                                     Club Logo  ...  \\\n",
              "0         FC Barcelona  https://cdn.sofifa.org/teams/2/light/241.png  ...   \n",
              "1             Juventus   https://cdn.sofifa.org/teams/2/light/45.png  ...   \n",
              "2  Paris Saint-Germain   https://cdn.sofifa.org/teams/2/light/73.png  ...   \n",
              "3    Manchester United   https://cdn.sofifa.org/teams/2/light/11.png  ...   \n",
              "4      Manchester City   https://cdn.sofifa.org/teams/2/light/10.png  ...   \n",
              "\n",
              "  Composure Marking StandingTackle  SlidingTackle  GKDiving  GKHandling  \\\n",
              "0      96.0    33.0           28.0           26.0       6.0        11.0   \n",
              "1      95.0    28.0           31.0           23.0       7.0        11.0   \n",
              "2      94.0    27.0           24.0           33.0       9.0         9.0   \n",
              "3      68.0    15.0           21.0           13.0      90.0        85.0   \n",
              "4      88.0    68.0           58.0           51.0      15.0        13.0   \n",
              "\n",
              "  GKKicking GKPositioning GKReflexes  Release Clause  \n",
              "0      15.0          14.0        8.0         €226.5M  \n",
              "1      15.0          14.0       11.0         €127.1M  \n",
              "2      15.0          15.0       11.0         €228.1M  \n",
              "3      87.0          88.0       94.0         €138.6M  \n",
              "4       5.0          10.0       13.0         €196.4M  \n",
              "\n",
              "[5 rows x 60 columns]"
            ],
            "text/html": [
              "\n",
              "  <div id=\"df-62b65e1b-a1b0-46d8-bed4-97a29f0e5467\">\n",
              "    <div class=\"colab-df-container\">\n",
              "      <div>\n",
              "<style scoped>\n",
              "    .dataframe tbody tr th:only-of-type {\n",
              "        vertical-align: middle;\n",
              "    }\n",
              "\n",
              "    .dataframe tbody tr th {\n",
              "        vertical-align: top;\n",
              "    }\n",
              "\n",
              "    .dataframe thead th {\n",
              "        text-align: right;\n",
              "    }\n",
              "</style>\n",
              "<table border=\"1\" class=\"dataframe\">\n",
              "  <thead>\n",
              "    <tr style=\"text-align: right;\">\n",
              "      <th></th>\n",
              "      <th>ID</th>\n",
              "      <th>Name</th>\n",
              "      <th>Age</th>\n",
              "      <th>Photo</th>\n",
              "      <th>Nationality</th>\n",
              "      <th>Flag</th>\n",
              "      <th>Overall</th>\n",
              "      <th>Potential</th>\n",
              "      <th>Club</th>\n",
              "      <th>Club Logo</th>\n",
              "      <th>...</th>\n",
              "      <th>Composure</th>\n",
              "      <th>Marking</th>\n",
              "      <th>StandingTackle</th>\n",
              "      <th>SlidingTackle</th>\n",
              "      <th>GKDiving</th>\n",
              "      <th>GKHandling</th>\n",
              "      <th>GKKicking</th>\n",
              "      <th>GKPositioning</th>\n",
              "      <th>GKReflexes</th>\n",
              "      <th>Release Clause</th>\n",
              "    </tr>\n",
              "  </thead>\n",
              "  <tbody>\n",
              "    <tr>\n",
              "      <th>0</th>\n",
              "      <td>158023</td>\n",
              "      <td>L. Messi</td>\n",
              "      <td>31</td>\n",
              "      <td>https://cdn.sofifa.org/players/4/19/158023.png</td>\n",
              "      <td>Argentina</td>\n",
              "      <td>https://cdn.sofifa.org/flags/52.png</td>\n",
              "      <td>94</td>\n",
              "      <td>94</td>\n",
              "      <td>FC Barcelona</td>\n",
              "      <td>https://cdn.sofifa.org/teams/2/light/241.png</td>\n",
              "      <td>...</td>\n",
              "      <td>96.0</td>\n",
              "      <td>33.0</td>\n",
              "      <td>28.0</td>\n",
              "      <td>26.0</td>\n",
              "      <td>6.0</td>\n",
              "      <td>11.0</td>\n",
              "      <td>15.0</td>\n",
              "      <td>14.0</td>\n",
              "      <td>8.0</td>\n",
              "      <td>€226.5M</td>\n",
              "    </tr>\n",
              "    <tr>\n",
              "      <th>1</th>\n",
              "      <td>20801</td>\n",
              "      <td>Cristiano Ronaldo</td>\n",
              "      <td>33</td>\n",
              "      <td>https://cdn.sofifa.org/players/4/19/20801.png</td>\n",
              "      <td>Portugal</td>\n",
              "      <td>https://cdn.sofifa.org/flags/38.png</td>\n",
              "      <td>94</td>\n",
              "      <td>94</td>\n",
              "      <td>Juventus</td>\n",
              "      <td>https://cdn.sofifa.org/teams/2/light/45.png</td>\n",
              "      <td>...</td>\n",
              "      <td>95.0</td>\n",
              "      <td>28.0</td>\n",
              "      <td>31.0</td>\n",
              "      <td>23.0</td>\n",
              "      <td>7.0</td>\n",
              "      <td>11.0</td>\n",
              "      <td>15.0</td>\n",
              "      <td>14.0</td>\n",
              "      <td>11.0</td>\n",
              "      <td>€127.1M</td>\n",
              "    </tr>\n",
              "    <tr>\n",
              "      <th>2</th>\n",
              "      <td>190871</td>\n",
              "      <td>Neymar Jr</td>\n",
              "      <td>26</td>\n",
              "      <td>https://cdn.sofifa.org/players/4/19/190871.png</td>\n",
              "      <td>Brazil</td>\n",
              "      <td>https://cdn.sofifa.org/flags/54.png</td>\n",
              "      <td>92</td>\n",
              "      <td>93</td>\n",
              "      <td>Paris Saint-Germain</td>\n",
              "      <td>https://cdn.sofifa.org/teams/2/light/73.png</td>\n",
              "      <td>...</td>\n",
              "      <td>94.0</td>\n",
              "      <td>27.0</td>\n",
              "      <td>24.0</td>\n",
              "      <td>33.0</td>\n",
              "      <td>9.0</td>\n",
              "      <td>9.0</td>\n",
              "      <td>15.0</td>\n",
              "      <td>15.0</td>\n",
              "      <td>11.0</td>\n",
              "      <td>€228.1M</td>\n",
              "    </tr>\n",
              "    <tr>\n",
              "      <th>3</th>\n",
              "      <td>193080</td>\n",
              "      <td>De Gea</td>\n",
              "      <td>27</td>\n",
              "      <td>https://cdn.sofifa.org/players/4/19/193080.png</td>\n",
              "      <td>Spain</td>\n",
              "      <td>https://cdn.sofifa.org/flags/45.png</td>\n",
              "      <td>91</td>\n",
              "      <td>93</td>\n",
              "      <td>Manchester United</td>\n",
              "      <td>https://cdn.sofifa.org/teams/2/light/11.png</td>\n",
              "      <td>...</td>\n",
              "      <td>68.0</td>\n",
              "      <td>15.0</td>\n",
              "      <td>21.0</td>\n",
              "      <td>13.0</td>\n",
              "      <td>90.0</td>\n",
              "      <td>85.0</td>\n",
              "      <td>87.0</td>\n",
              "      <td>88.0</td>\n",
              "      <td>94.0</td>\n",
              "      <td>€138.6M</td>\n",
              "    </tr>\n",
              "    <tr>\n",
              "      <th>4</th>\n",
              "      <td>192985</td>\n",
              "      <td>K. De Bruyne</td>\n",
              "      <td>27</td>\n",
              "      <td>https://cdn.sofifa.org/players/4/19/192985.png</td>\n",
              "      <td>Belgium</td>\n",
              "      <td>https://cdn.sofifa.org/flags/7.png</td>\n",
              "      <td>91</td>\n",
              "      <td>92</td>\n",
              "      <td>Manchester City</td>\n",
              "      <td>https://cdn.sofifa.org/teams/2/light/10.png</td>\n",
              "      <td>...</td>\n",
              "      <td>88.0</td>\n",
              "      <td>68.0</td>\n",
              "      <td>58.0</td>\n",
              "      <td>51.0</td>\n",
              "      <td>15.0</td>\n",
              "      <td>13.0</td>\n",
              "      <td>5.0</td>\n",
              "      <td>10.0</td>\n",
              "      <td>13.0</td>\n",
              "      <td>€196.4M</td>\n",
              "    </tr>\n",
              "  </tbody>\n",
              "</table>\n",
              "<p>5 rows × 60 columns</p>\n",
              "</div>\n",
              "      <button class=\"colab-df-convert\" onclick=\"convertToInteractive('df-62b65e1b-a1b0-46d8-bed4-97a29f0e5467')\"\n",
              "              title=\"Convert this dataframe to an interactive table.\"\n",
              "              style=\"display:none;\">\n",
              "        \n",
              "  <svg xmlns=\"http://www.w3.org/2000/svg\" height=\"24px\"viewBox=\"0 0 24 24\"\n",
              "       width=\"24px\">\n",
              "    <path d=\"M0 0h24v24H0V0z\" fill=\"none\"/>\n",
              "    <path d=\"M18.56 5.44l.94 2.06.94-2.06 2.06-.94-2.06-.94-.94-2.06-.94 2.06-2.06.94zm-11 1L8.5 8.5l.94-2.06 2.06-.94-2.06-.94L8.5 2.5l-.94 2.06-2.06.94zm10 10l.94 2.06.94-2.06 2.06-.94-2.06-.94-.94-2.06-.94 2.06-2.06.94z\"/><path d=\"M17.41 7.96l-1.37-1.37c-.4-.4-.92-.59-1.43-.59-.52 0-1.04.2-1.43.59L10.3 9.45l-7.72 7.72c-.78.78-.78 2.05 0 2.83L4 21.41c.39.39.9.59 1.41.59.51 0 1.02-.2 1.41-.59l7.78-7.78 2.81-2.81c.8-.78.8-2.07 0-2.86zM5.41 20L4 18.59l7.72-7.72 1.47 1.35L5.41 20z\"/>\n",
              "  </svg>\n",
              "      </button>\n",
              "      \n",
              "  <style>\n",
              "    .colab-df-container {\n",
              "      display:flex;\n",
              "      flex-wrap:wrap;\n",
              "      gap: 12px;\n",
              "    }\n",
              "\n",
              "    .colab-df-convert {\n",
              "      background-color: #E8F0FE;\n",
              "      border: none;\n",
              "      border-radius: 50%;\n",
              "      cursor: pointer;\n",
              "      display: none;\n",
              "      fill: #1967D2;\n",
              "      height: 32px;\n",
              "      padding: 0 0 0 0;\n",
              "      width: 32px;\n",
              "    }\n",
              "\n",
              "    .colab-df-convert:hover {\n",
              "      background-color: #E2EBFA;\n",
              "      box-shadow: 0px 1px 2px rgba(60, 64, 67, 0.3), 0px 1px 3px 1px rgba(60, 64, 67, 0.15);\n",
              "      fill: #174EA6;\n",
              "    }\n",
              "\n",
              "    [theme=dark] .colab-df-convert {\n",
              "      background-color: #3B4455;\n",
              "      fill: #D2E3FC;\n",
              "    }\n",
              "\n",
              "    [theme=dark] .colab-df-convert:hover {\n",
              "      background-color: #434B5C;\n",
              "      box-shadow: 0px 1px 3px 1px rgba(0, 0, 0, 0.15);\n",
              "      filter: drop-shadow(0px 1px 2px rgba(0, 0, 0, 0.3));\n",
              "      fill: #FFFFFF;\n",
              "    }\n",
              "  </style>\n",
              "\n",
              "      <script>\n",
              "        const buttonEl =\n",
              "          document.querySelector('#df-62b65e1b-a1b0-46d8-bed4-97a29f0e5467 button.colab-df-convert');\n",
              "        buttonEl.style.display =\n",
              "          google.colab.kernel.accessAllowed ? 'block' : 'none';\n",
              "\n",
              "        async function convertToInteractive(key) {\n",
              "          const element = document.querySelector('#df-62b65e1b-a1b0-46d8-bed4-97a29f0e5467');\n",
              "          const dataTable =\n",
              "            await google.colab.kernel.invokeFunction('convertToInteractive',\n",
              "                                                     [key], {});\n",
              "          if (!dataTable) return;\n",
              "\n",
              "          const docLinkHtml = 'Like what you see? Visit the ' +\n",
              "            '<a target=\"_blank\" href=https://colab.research.google.com/notebooks/data_table.ipynb>data table notebook</a>'\n",
              "            + ' to learn more about interactive tables.';\n",
              "          element.innerHTML = '';\n",
              "          dataTable['output_type'] = 'display_data';\n",
              "          await google.colab.output.renderOutput(dataTable, element);\n",
              "          const docLink = document.createElement('div');\n",
              "          docLink.innerHTML = docLinkHtml;\n",
              "          element.appendChild(docLink);\n",
              "        }\n",
              "      </script>\n",
              "    </div>\n",
              "  </div>\n",
              "  "
            ]
          },
          "metadata": {},
          "execution_count": 6
        }
      ]
    },
    {
      "cell_type": "markdown",
      "source": [
        "shape of the dataset"
      ],
      "metadata": {
        "id": "nYZpvKlurs1j"
      }
    },
    {
      "cell_type": "code",
      "source": [
        "df.shape"
      ],
      "metadata": {
        "colab": {
          "base_uri": "https://localhost:8080/"
        },
        "id": "H0ufOpLPryKM",
        "outputId": "fe669eb2-3bcc-496f-87d3-e88ddcd1b886"
      },
      "execution_count": 7,
      "outputs": [
        {
          "output_type": "execute_result",
          "data": {
            "text/plain": [
              "(18207, 60)"
            ]
          },
          "metadata": {},
          "execution_count": 7
        }
      ]
    },
    {
      "cell_type": "markdown",
      "source": [
        "information of the dataset"
      ],
      "metadata": {
        "id": "7fbywQZwr1bM"
      }
    },
    {
      "cell_type": "code",
      "source": [
        "df.info()"
      ],
      "metadata": {
        "colab": {
          "base_uri": "https://localhost:8080/"
        },
        "id": "tEo9C7u1r7Ca",
        "outputId": "fb28ecef-eb82-4cc0-de45-ce6244564846"
      },
      "execution_count": 8,
      "outputs": [
        {
          "output_type": "stream",
          "name": "stdout",
          "text": [
            "<class 'pandas.core.frame.DataFrame'>\n",
            "RangeIndex: 18207 entries, 0 to 18206\n",
            "Data columns (total 60 columns):\n",
            " #   Column                    Non-Null Count  Dtype  \n",
            "---  ------                    --------------  -----  \n",
            " 0   ID                        18207 non-null  int64  \n",
            " 1   Name                      18207 non-null  object \n",
            " 2   Age                       18207 non-null  int64  \n",
            " 3   Photo                     18207 non-null  object \n",
            " 4   Nationality               18207 non-null  object \n",
            " 5   Flag                      18207 non-null  object \n",
            " 6   Overall                   18207 non-null  int64  \n",
            " 7   Potential                 18207 non-null  int64  \n",
            " 8   Club                      17966 non-null  object \n",
            " 9   Club Logo                 18207 non-null  object \n",
            " 10  Value                     18207 non-null  object \n",
            " 11  Wage                      18207 non-null  object \n",
            " 12  Preferred Foot            18159 non-null  object \n",
            " 13  International Reputation  18159 non-null  float64\n",
            " 14  Weak Foot                 18159 non-null  float64\n",
            " 15  Skill Moves               18159 non-null  float64\n",
            " 16  Work Rate                 18159 non-null  object \n",
            " 17  Body Type                 18159 non-null  object \n",
            " 18  Position                  18147 non-null  object \n",
            " 19  Jersey Number             18147 non-null  float64\n",
            " 20  Joined                    16654 non-null  object \n",
            " 21  Loaned From               1264 non-null   object \n",
            " 22  Contract Valid Until      17918 non-null  object \n",
            " 23  Height                    18159 non-null  object \n",
            " 24  Weight                    18159 non-null  object \n",
            " 25  Crossing                  18159 non-null  float64\n",
            " 26  Finishing                 18159 non-null  float64\n",
            " 27  HeadingAccuracy           18159 non-null  float64\n",
            " 28  ShortPassing              18159 non-null  float64\n",
            " 29  Volleys                   18159 non-null  float64\n",
            " 30  Dribbling                 18159 non-null  float64\n",
            " 31  Curve                     18159 non-null  float64\n",
            " 32  FKAccuracy                18159 non-null  float64\n",
            " 33  LongPassing               18159 non-null  float64\n",
            " 34  BallControl               18159 non-null  float64\n",
            " 35  Acceleration              18159 non-null  float64\n",
            " 36  SprintSpeed               18159 non-null  float64\n",
            " 37  Agility                   18159 non-null  float64\n",
            " 38  Reactions                 18159 non-null  float64\n",
            " 39  Balance                   18159 non-null  float64\n",
            " 40  ShotPower                 18159 non-null  float64\n",
            " 41  Jumping                   18159 non-null  float64\n",
            " 42  Stamina                   18159 non-null  float64\n",
            " 43  Strength                  18159 non-null  float64\n",
            " 44  LongShots                 18159 non-null  float64\n",
            " 45  Aggression                18159 non-null  float64\n",
            " 46  Interceptions             18159 non-null  float64\n",
            " 47  Positioning               18159 non-null  float64\n",
            " 48  Vision                    18159 non-null  float64\n",
            " 49  Penalties                 18159 non-null  float64\n",
            " 50  Composure                 18159 non-null  float64\n",
            " 51  Marking                   18159 non-null  float64\n",
            " 52  StandingTackle            18159 non-null  float64\n",
            " 53  SlidingTackle             18159 non-null  float64\n",
            " 54  GKDiving                  18159 non-null  float64\n",
            " 55  GKHandling                18159 non-null  float64\n",
            " 56  GKKicking                 18159 non-null  float64\n",
            " 57  GKPositioning             18159 non-null  float64\n",
            " 58  GKReflexes                18159 non-null  float64\n",
            " 59  Release Clause            16643 non-null  object \n",
            "dtypes: float64(38), int64(4), object(18)\n",
            "memory usage: 8.3+ MB\n"
          ]
        }
      ]
    },
    {
      "cell_type": "markdown",
      "source": [
        "# 3 Drop the columns which you think redundant for the analysis*"
      ],
      "metadata": {
        "id": "TnI-WuzUsC9K"
      }
    },
    {
      "cell_type": "markdown",
      "source": [
        "Dropping the ID, Photo, Flag and Club Logo columns."
      ],
      "metadata": {
        "id": "RqpnNZmisVni"
      }
    },
    {
      "cell_type": "code",
      "source": [
        "df.drop(['ID', 'Photo', 'Flag', 'Club Logo'], axis=1, inplace=True)"
      ],
      "metadata": {
        "id": "bXek2byDsIfN"
      },
      "execution_count": 9,
      "outputs": []
    },
    {
      "cell_type": "markdown",
      "source": [
        "## **Data Cleaning and Preprocessing**"
      ],
      "metadata": {
        "id": "YybZ_AW7sf_z"
      }
    },
    {
      "cell_type": "markdown",
      "source": [
        "# 4. Convert the columns \"Value\", \"Wage\", \"Release Clause\" to float datatype after getting rid of currency symbol and suffix"
      ],
      "metadata": {
        "id": "diXRE_h0sl3i"
      }
    },
    {
      "cell_type": "markdown",
      "source": [
        "Converting \"Value\" column to float datatype after removing '€' symbol and changing data to numbers based on suffix."
      ],
      "metadata": {
        "id": "z2bRJvEhtEHS"
      }
    },
    {
      "cell_type": "code",
      "source": [
        "df['Value'] = df['Value'].replace({'€':'', 'K':'*1e3', 'M':'*1e6'}, regex=True).map(pd.eval).astype('float')"
      ],
      "metadata": {
        "id": "LjsdzcAxtFNa"
      },
      "execution_count": 10,
      "outputs": []
    },
    {
      "cell_type": "markdown",
      "source": [
        "Converting \"Wage\" column to float datatype after removing '€' symbol and changing data to numbers based on suffix."
      ],
      "metadata": {
        "id": "NgXHUFMmtNle"
      }
    },
    {
      "cell_type": "code",
      "source": [
        "df['Wage'] = df['Wage'].replace({'€':'', 'K':'*1e3', 'M':'*1e6'}, regex=True).map(pd.eval).astype('float')"
      ],
      "metadata": {
        "id": "Bx5mtpXYs_Al"
      },
      "execution_count": 11,
      "outputs": []
    },
    {
      "cell_type": "markdown",
      "source": [
        "Converting \"Release Clause\" column to float datatype after removing '€' symbol and changing data to numbers based on suffix."
      ],
      "metadata": {
        "id": "xdFIC_XqtW9T"
      }
    },
    {
      "cell_type": "code",
      "source": [
        "df['Release Clause'] = df['Release Clause'].fillna(0).replace({'€':'', 'K':'*1e3', 'M':'*1e6'}, regex=True).map(pd.eval).astype('float')"
      ],
      "metadata": {
        "id": "w6dcGM0ctYcC"
      },
      "execution_count": 12,
      "outputs": []
    },
    {
      "cell_type": "markdown",
      "source": [
        "# 5. Convert the column \"Joined\" into integer data type with keeping only the year. "
      ],
      "metadata": {
        "id": "cd_pnWIutoUV"
      }
    },
    {
      "cell_type": "markdown",
      "source": [
        "Values of joined columns"
      ],
      "metadata": {
        "id": "HHul1sjYt6VL"
      }
    },
    {
      "cell_type": "code",
      "source": [
        "df['Joined']"
      ],
      "metadata": {
        "colab": {
          "base_uri": "https://localhost:8080/"
        },
        "id": "nJA0UsSvtwHr",
        "outputId": "22d137f9-244c-4593-9b4c-76e0b4903425"
      },
      "execution_count": 13,
      "outputs": [
        {
          "output_type": "execute_result",
          "data": {
            "text/plain": [
              "0         Jul 1, 2004\n",
              "1        Jul 10, 2018\n",
              "2         Aug 3, 2017\n",
              "3         Jul 1, 2011\n",
              "4        Aug 30, 2015\n",
              "             ...     \n",
              "18202     May 3, 2017\n",
              "18203    Mar 19, 2018\n",
              "18204     Jul 1, 2017\n",
              "18205    Apr 24, 2018\n",
              "18206    Oct 30, 2018\n",
              "Name: Joined, Length: 18207, dtype: object"
            ]
          },
          "metadata": {},
          "execution_count": 13
        }
      ]
    },
    {
      "cell_type": "markdown",
      "source": [
        "Convertion of the column \"Joined\" to integer datatype keeping the year only."
      ],
      "metadata": {
        "id": "Hkw06QW1t9Y9"
      }
    },
    {
      "cell_type": "code",
      "source": [
        "df['Joined'] = pd.DatetimeIndex(df['Joined']).year\n",
        "df['Joined'] = pd.to_numeric(df['Joined'], errors='coerce').astype(pd.Int64Dtype())\n",
        "df['Joined']"
      ],
      "metadata": {
        "colab": {
          "base_uri": "https://localhost:8080/"
        },
        "id": "Qngs8IxVuK2z",
        "outputId": "e9736c71-b616-4236-8240-d2606d4f4d8a"
      },
      "execution_count": 14,
      "outputs": [
        {
          "output_type": "execute_result",
          "data": {
            "text/plain": [
              "0        2004\n",
              "1        2018\n",
              "2        2017\n",
              "3        2011\n",
              "4        2015\n",
              "         ... \n",
              "18202    2017\n",
              "18203    2018\n",
              "18204    2017\n",
              "18205    2018\n",
              "18206    2018\n",
              "Name: Joined, Length: 18207, dtype: Int64"
            ]
          },
          "metadata": {},
          "execution_count": 14
        }
      ]
    },
    {
      "cell_type": "markdown",
      "source": [
        "# 6. Convert the column \"Contract Valid Until\" to pandas datetime type. "
      ],
      "metadata": {
        "id": "OuAcZtlKuSNL"
      }
    },
    {
      "cell_type": "code",
      "source": [
        "df['Contract Valid Until'] = pd.to_datetime(df['Contract Valid Until'])\n",
        "df['Contract Valid Until']"
      ],
      "metadata": {
        "colab": {
          "base_uri": "https://localhost:8080/"
        },
        "id": "lXdB4bNiuUkm",
        "outputId": "28a49de9-5c55-4b25-c170-fb5906ce3405"
      },
      "execution_count": 15,
      "outputs": [
        {
          "output_type": "execute_result",
          "data": {
            "text/plain": [
              "0       2021-01-01\n",
              "1       2022-01-01\n",
              "2       2022-01-01\n",
              "3       2020-01-01\n",
              "4       2023-01-01\n",
              "           ...    \n",
              "18202   2019-01-01\n",
              "18203   2020-01-01\n",
              "18204   2021-01-01\n",
              "18205   2019-01-01\n",
              "18206   2019-01-01\n",
              "Name: Contract Valid Until, Length: 18207, dtype: datetime64[ns]"
            ]
          },
          "metadata": {},
          "execution_count": 15
        }
      ]
    },
    {
      "cell_type": "markdown",
      "source": [
        "# 7. The column 'Height' is in inches with a quotation mark, Convert to float with decimal points."
      ],
      "metadata": {
        "id": "hQ4qiXfMubKd"
      }
    },
    {
      "cell_type": "code",
      "source": [
        "df['Height'] = df['Height'].fillna(\"0'0\").apply(lambda x: float(x.split(\"'\")[0])*12+float(x.split(\"'\")[1]))\n",
        "df['Height']"
      ],
      "metadata": {
        "colab": {
          "base_uri": "https://localhost:8080/"
        },
        "id": "KwVty4Ocufxz",
        "outputId": "dcc8e6f4-32b0-4713-8adb-62cf7ccd15df"
      },
      "execution_count": 16,
      "outputs": [
        {
          "output_type": "execute_result",
          "data": {
            "text/plain": [
              "0        67.0\n",
              "1        74.0\n",
              "2        69.0\n",
              "3        76.0\n",
              "4        71.0\n",
              "         ... \n",
              "18202    69.0\n",
              "18203    75.0\n",
              "18204    68.0\n",
              "18205    70.0\n",
              "18206    70.0\n",
              "Name: Height, Length: 18207, dtype: float64"
            ]
          },
          "metadata": {},
          "execution_count": 16
        }
      ]
    },
    {
      "cell_type": "markdown",
      "source": [
        "# 8. The column \"Weight\" has the suffix as lbs, remove the suffix and convert to float."
      ],
      "metadata": {
        "id": "_V_ag6BTuptE"
      }
    },
    {
      "cell_type": "code",
      "source": [
        "df['Weight'] = df['Weight'].fillna(0).replace({'lbs':''}, regex=True).map(pd.eval).astype('float')\n",
        "df['Weight']"
      ],
      "metadata": {
        "colab": {
          "base_uri": "https://localhost:8080/"
        },
        "id": "VmOikEWButlD",
        "outputId": "a33c04e0-710c-4a48-ebfa-58530543d8ac"
      },
      "execution_count": 17,
      "outputs": [
        {
          "output_type": "execute_result",
          "data": {
            "text/plain": [
              "0        159.0\n",
              "1        183.0\n",
              "2        150.0\n",
              "3        168.0\n",
              "4        154.0\n",
              "         ...  \n",
              "18202    134.0\n",
              "18203    170.0\n",
              "18204    148.0\n",
              "18205    154.0\n",
              "18206    176.0\n",
              "Name: Weight, Length: 18207, dtype: float64"
            ]
          },
          "metadata": {},
          "execution_count": 17
        }
      ]
    },
    {
      "cell_type": "markdown",
      "source": [
        "# 9. Check for the percentage of missing values and impute them with appropriate imputation techniques"
      ],
      "metadata": {
        "id": "QWfGTnJ0u0Z8"
      }
    },
    {
      "cell_type": "markdown",
      "source": [
        "Checking the missing values"
      ],
      "metadata": {
        "id": "3bHMAyHnvCIr"
      }
    },
    {
      "cell_type": "code",
      "source": [
        "df.isnull().sum()/len(df)*100"
      ],
      "metadata": {
        "colab": {
          "base_uri": "https://localhost:8080/"
        },
        "id": "alLunEdku5CM",
        "outputId": "02928977-3c90-4ac9-f746-94517f0a2d9d"
      },
      "execution_count": 18,
      "outputs": [
        {
          "output_type": "execute_result",
          "data": {
            "text/plain": [
              "Name                         0.000000\n",
              "Age                          0.000000\n",
              "Nationality                  0.000000\n",
              "Overall                      0.000000\n",
              "Potential                    0.000000\n",
              "Club                         1.323667\n",
              "Value                        0.000000\n",
              "Wage                         0.000000\n",
              "Preferred Foot               0.263635\n",
              "International Reputation     0.263635\n",
              "Weak Foot                    0.263635\n",
              "Skill Moves                  0.263635\n",
              "Work Rate                    0.263635\n",
              "Body Type                    0.263635\n",
              "Position                     0.329544\n",
              "Jersey Number                0.329544\n",
              "Joined                       8.529686\n",
              "Loaned From                 93.057615\n",
              "Contract Valid Until         1.587302\n",
              "Height                       0.000000\n",
              "Weight                       0.000000\n",
              "Crossing                     0.263635\n",
              "Finishing                    0.263635\n",
              "HeadingAccuracy              0.263635\n",
              "ShortPassing                 0.263635\n",
              "Volleys                      0.263635\n",
              "Dribbling                    0.263635\n",
              "Curve                        0.263635\n",
              "FKAccuracy                   0.263635\n",
              "LongPassing                  0.263635\n",
              "BallControl                  0.263635\n",
              "Acceleration                 0.263635\n",
              "SprintSpeed                  0.263635\n",
              "Agility                      0.263635\n",
              "Reactions                    0.263635\n",
              "Balance                      0.263635\n",
              "ShotPower                    0.263635\n",
              "Jumping                      0.263635\n",
              "Stamina                      0.263635\n",
              "Strength                     0.263635\n",
              "LongShots                    0.263635\n",
              "Aggression                   0.263635\n",
              "Interceptions                0.263635\n",
              "Positioning                  0.263635\n",
              "Vision                       0.263635\n",
              "Penalties                    0.263635\n",
              "Composure                    0.263635\n",
              "Marking                      0.263635\n",
              "StandingTackle               0.263635\n",
              "SlidingTackle                0.263635\n",
              "GKDiving                     0.263635\n",
              "GKHandling                   0.263635\n",
              "GKKicking                    0.263635\n",
              "GKPositioning                0.263635\n",
              "GKReflexes                   0.263635\n",
              "Release Clause               0.000000\n",
              "dtype: float64"
            ]
          },
          "metadata": {},
          "execution_count": 18
        }
      ]
    },
    {
      "cell_type": "markdown",
      "source": [
        "Dropping Column 'Loaned From' because 93.057615 % values are missing"
      ],
      "metadata": {
        "id": "GS3A0OGKvHg8"
      }
    },
    {
      "cell_type": "code",
      "source": [
        "df.drop(['Loaned From'],axis=1, inplace=True)"
      ],
      "metadata": {
        "id": "ZjbkPmW7vnA-"
      },
      "execution_count": 19,
      "outputs": []
    },
    {
      "cell_type": "code",
      "source": [
        "df['Joined'].fillna(df['Joined'].median(), inplace=True) "
      ],
      "metadata": {
        "id": "jPgbS0_Ov4Q3"
      },
      "execution_count": 20,
      "outputs": []
    },
    {
      "cell_type": "markdown",
      "source": [
        "## **Exploratory Data Analysis**"
      ],
      "metadata": {
        "id": "UwG_Yn05H5o2"
      }
    },
    {
      "cell_type": "markdown",
      "source": [
        "# 10. Plot the distribution of Overall rating for all the players and write your findings"
      ],
      "metadata": {
        "id": "R6eL1XFkH_ln"
      }
    },
    {
      "cell_type": "code",
      "source": [
        "sns.displot(df['Overall'], binwidth=2)\n",
        "plt.axvline(df['Overall'].mean(), color='red')\n",
        "plt.axvline(df['Overall'].median(), color='green')\n",
        "plt.axvline(df['Overall'].mode().values[0], color='blue')\n",
        "plt.show()\n",
        "\n",
        "print(\"Mean: \", df['Overall'].mean())\n",
        "print(\"Median: \", df['Overall'].median())\n",
        "print(\"Mode: \", df['Overall'].mode().values[0])"
      ],
      "metadata": {
        "colab": {
          "base_uri": "https://localhost:8080/",
          "height": 421
        },
        "id": "rWqmlhghIMXV",
        "outputId": "1da61b7b-e5c7-4068-e30f-f4a7fa5443ff"
      },
      "execution_count": 21,
      "outputs": [
        {
          "output_type": "display_data",
          "data": {
            "text/plain": [
              "<Figure size 360x360 with 1 Axes>"
            ],
            "image/png": "[encoded data removed]"
          },
          "metadata": {
            "needs_background": "light"
          }
        },
        {
          "output_type": "stream",
          "name": "stdout",
          "text": [
            "Mean:  66.23869940132916\n",
            "Median:  66.0\n",
            "Mode:  66\n"
          ]
        }
      ]
    },
    {
      "cell_type": "markdown",
      "source": [
        "Observations made:\n",
        "The Overall rating data distribution is not Skewed and most of the players have a Overall rating in the range of 64 to 68."
      ],
      "metadata": {
        "id": "H-yooY8LIYZq"
      }
    },
    {
      "cell_type": "markdown",
      "source": [
        "# 11. Retrieve the names of top20 players based on the Overall rating. "
      ],
      "metadata": {
        "id": "Hezhq7vVIydB"
      }
    },
    {
      "cell_type": "code",
      "source": [
        "top_20_names = df.sort_values(by=\"Overall\", axis=0, ascending=False).head(20)\n",
        "top_20_names['Name']"
      ],
      "metadata": {
        "colab": {
          "base_uri": "https://localhost:8080/"
        },
        "id": "oyhAH00FI4O-",
        "outputId": "62f80bc2-9230-4eb9-c399-0deb4052930b"
      },
      "execution_count": 22,
      "outputs": [
        {
          "output_type": "execute_result",
          "data": {
            "text/plain": [
              "0              L. Messi\n",
              "1     Cristiano Ronaldo\n",
              "2             Neymar Jr\n",
              "3                De Gea\n",
              "4          K. De Bruyne\n",
              "5             E. Hazard\n",
              "6             L. Modrić\n",
              "7             L. Suárez\n",
              "8          Sergio Ramos\n",
              "12             D. Godín\n",
              "13          David Silva\n",
              "9              J. Oblak\n",
              "11             T. Kroos\n",
              "10       R. Lewandowski\n",
              "20      Sergio Busquets\n",
              "24         G. Chiellini\n",
              "23            S. Agüero\n",
              "22             M. Neuer\n",
              "21            E. Cavani\n",
              "16              H. Kane\n",
              "Name: Name, dtype: object"
            ]
          },
          "metadata": {},
          "execution_count": 22
        }
      ]
    },
    {
      "cell_type": "markdown",
      "source": [
        "# 12. Generate a dataframe which should include all the information of the Top 20 players based on the Overall rating."
      ],
      "metadata": {
        "id": "p6FfBm0tJC5n"
      }
    },
    {
      "cell_type": "code",
      "source": [
        "top_20_players = df.sort_values(by=\"Overall\", axis=0, ascending=False).head(20)\n",
        "top_20_players"
      ],
      "metadata": {
        "colab": {
          "base_uri": "https://localhost:8080/",
          "height": 1000
        },
        "id": "xcu1laOxJHKP",
        "outputId": "9587bcfd-eab7-450f-e3ef-7f4450137447"
      },
      "execution_count": 23,
      "outputs": [
        {
          "output_type": "execute_result",
          "data": {
            "text/plain": [
              "                 Name  Age Nationality  Overall  Potential  \\\n",
              "0            L. Messi   31   Argentina       94         94   \n",
              "1   Cristiano Ronaldo   33    Portugal       94         94   \n",
              "2           Neymar Jr   26      Brazil       92         93   \n",
              "3              De Gea   27       Spain       91         93   \n",
              "4        K. De Bruyne   27     Belgium       91         92   \n",
              "5           E. Hazard   27     Belgium       91         91   \n",
              "6           L. Modrić   32     Croatia       91         91   \n",
              "7           L. Suárez   31     Uruguay       91         91   \n",
              "8        Sergio Ramos   32       Spain       91         91   \n",
              "12           D. Godín   32     Uruguay       90         90   \n",
              "13        David Silva   32       Spain       90         90   \n",
              "9            J. Oblak   25    Slovenia       90         93   \n",
              "11           T. Kroos   28     Germany       90         90   \n",
              "10     R. Lewandowski   29      Poland       90         90   \n",
              "20    Sergio Busquets   29       Spain       89         89   \n",
              "24       G. Chiellini   33       Italy       89         89   \n",
              "23          S. Agüero   30   Argentina       89         89   \n",
              "22           M. Neuer   32     Germany       89         89   \n",
              "21          E. Cavani   31     Uruguay       89         89   \n",
              "16            H. Kane   24     England       89         91   \n",
              "\n",
              "                   Club        Value      Wage Preferred Foot  \\\n",
              "0          FC Barcelona  110500000.0  565000.0           Left   \n",
              "1              Juventus   77000000.0  405000.0          Right   \n",
              "2   Paris Saint-Germain  118500000.0  290000.0          Right   \n",
              "3     Manchester United   72000000.0  260000.0          Right   \n",
              "4       Manchester City  102000000.0  355000.0          Right   \n",
              "5               Chelsea   93000000.0  340000.0          Right   \n",
              "6           Real Madrid   67000000.0  420000.0          Right   \n",
              "7          FC Barcelona   80000000.0  455000.0          Right   \n",
              "8           Real Madrid   51000000.0  380000.0          Right   \n",
              "12      Atlético Madrid   44000000.0  125000.0          Right   \n",
              "13      Manchester City   60000000.0  285000.0           Left   \n",
              "9       Atlético Madrid   68000000.0   94000.0          Right   \n",
              "11          Real Madrid   76500000.0  355000.0          Right   \n",
              "10    FC Bayern München   77000000.0  205000.0          Right   \n",
              "20         FC Barcelona   51500000.0  315000.0          Right   \n",
              "24             Juventus   27000000.0  215000.0           Left   \n",
              "23      Manchester City   64500000.0  300000.0          Right   \n",
              "22    FC Bayern München   38000000.0  130000.0          Right   \n",
              "21  Paris Saint-Germain   60000000.0  200000.0          Right   \n",
              "16    Tottenham Hotspur   83500000.0  205000.0          Right   \n",
              "\n",
              "    International Reputation  ...  Composure  Marking StandingTackle  \\\n",
              "0                        5.0  ...       96.0     33.0           28.0   \n",
              "1                        5.0  ...       95.0     28.0           31.0   \n",
              "2                        5.0  ...       94.0     27.0           24.0   \n",
              "3                        4.0  ...       68.0     15.0           21.0   \n",
              "4                        4.0  ...       88.0     68.0           58.0   \n",
              "5                        4.0  ...       91.0     34.0           27.0   \n",
              "6                        4.0  ...       84.0     60.0           76.0   \n",
              "7                        5.0  ...       85.0     62.0           45.0   \n",
              "8                        4.0  ...       82.0     87.0           92.0   \n",
              "12                       3.0  ...       82.0     90.0           89.0   \n",
              "13                       4.0  ...       93.0     59.0           53.0   \n",
              "9                        3.0  ...       70.0     27.0           12.0   \n",
              "11                       4.0  ...       85.0     72.0           79.0   \n",
              "10                       4.0  ...       86.0     34.0           42.0   \n",
              "20                       4.0  ...       90.0     90.0           86.0   \n",
              "24                       4.0  ...       84.0     93.0           93.0   \n",
              "23                       4.0  ...       90.0     30.0           20.0   \n",
              "22                       5.0  ...       70.0     17.0           10.0   \n",
              "21                       4.0  ...       82.0     52.0           45.0   \n",
              "16                       3.0  ...       89.0     56.0           36.0   \n",
              "\n",
              "   SlidingTackle GKDiving  GKHandling  GKKicking GKPositioning  GKReflexes  \\\n",
              "0           26.0      6.0        11.0       15.0          14.0         8.0   \n",
              "1           23.0      7.0        11.0       15.0          14.0        11.0   \n",
              "2           33.0      9.0         9.0       15.0          15.0        11.0   \n",
              "3           13.0     90.0        85.0       87.0          88.0        94.0   \n",
              "4           51.0     15.0        13.0        5.0          10.0        13.0   \n",
              "5           22.0     11.0        12.0        6.0           8.0         8.0   \n",
              "6           73.0     13.0         9.0        7.0          14.0         9.0   \n",
              "7           38.0     27.0        25.0       31.0          33.0        37.0   \n",
              "8           91.0     11.0         8.0        9.0           7.0        11.0   \n",
              "12          89.0      6.0         8.0       15.0           5.0        15.0   \n",
              "13          29.0      6.0        15.0        7.0           6.0        12.0   \n",
              "9           18.0     86.0        92.0       78.0          88.0        89.0   \n",
              "11          69.0     10.0        11.0       13.0           7.0        10.0   \n",
              "10          19.0     15.0         6.0       12.0           8.0        10.0   \n",
              "20          80.0      5.0         8.0       13.0           9.0        13.0   \n",
              "24          90.0      3.0         3.0        2.0           4.0         3.0   \n",
              "23          12.0     13.0        15.0        6.0          11.0        14.0   \n",
              "22          11.0     90.0        86.0       91.0          87.0        87.0   \n",
              "21          39.0     12.0         5.0       13.0          13.0        10.0   \n",
              "16          38.0      8.0        10.0       11.0          14.0        11.0   \n",
              "\n",
              "    Release Clause  \n",
              "0      226500000.0  \n",
              "1      127100000.0  \n",
              "2      228100000.0  \n",
              "3      138600000.0  \n",
              "4      196400000.0  \n",
              "5      172100000.0  \n",
              "6      137400000.0  \n",
              "7      164000000.0  \n",
              "8      104600000.0  \n",
              "12      90200000.0  \n",
              "13     111000000.0  \n",
              "9      144500000.0  \n",
              "11     156800000.0  \n",
              "10     127100000.0  \n",
              "20     105600000.0  \n",
              "24      44600000.0  \n",
              "23     119300000.0  \n",
              "22      62700000.0  \n",
              "21     111000000.0  \n",
              "16     160700000.0  \n",
              "\n",
              "[20 rows x 55 columns]"
            ],
            "text/html": [
              "\n",
              "  <div id=\"df-0648bb64-fdca-49c7-a188-44a24e85b22b\">\n",
              "    <div class=\"colab-df-container\">\n",
              "      <div>\n",
              "<style scoped>\n",
              "    .dataframe tbody tr th:only-of-type {\n",
              "        vertical-align: middle;\n",
              "    }\n",
              "\n",
              "    .dataframe tbody tr th {\n",
              "        vertical-align: top;\n",
              "    }\n",
              "\n",
              "    .dataframe thead th {\n",
              "        text-align: right;\n",
              "    }\n",
              "</style>\n",
              "<table border=\"1\" class=\"dataframe\">\n",
              "  <thead>\n",
              "    <tr style=\"text-align: right;\">\n",
              "      <th></th>\n",
              "      <th>Name</th>\n",
              "      <th>Age</th>\n",
              "      <th>Nationality</th>\n",
              "      <th>Overall</th>\n",
              "      <th>Potential</th>\n",
              "      <th>Club</th>\n",
              "      <th>Value</th>\n",
              "      <th>Wage</th>\n",
              "      <th>Preferred Foot</th>\n",
              "      <th>International Reputation</th>\n",
              "      <th>...</th>\n",
              "      <th>Composure</th>\n",
              "      <th>Marking</th>\n",
              "      <th>StandingTackle</th>\n",
              "      <th>SlidingTackle</th>\n",
              "      <th>GKDiving</th>\n",
              "      <th>GKHandling</th>\n",
              "      <th>GKKicking</th>\n",
              "      <th>GKPositioning</th>\n",
              "      <th>GKReflexes</th>\n",
              "      <th>Release Clause</th>\n",
              "    </tr>\n",
              "  </thead>\n",
              "  <tbody>\n",
              "    <tr>\n",
              "      <th>0</th>\n",
              "      <td>L. Messi</td>\n",
              "      <td>31</td>\n",
              "      <td>Argentina</td>\n",
              "      <td>94</td>\n",
              "      <td>94</td>\n",
              "      <td>FC Barcelona</td>\n",
              "      <td>110500000.0</td>\n",
              "      <td>565000.0</td>\n",
              "      <td>Left</td>\n",
              "      <td>5.0</td>\n",
              "      <td>...</td>\n",
              "      <td>96.0</td>\n",
              "      <td>33.0</td>\n",
              "      <td>28.0</td>\n",
              "      <td>26.0</td>\n",
              "      <td>6.0</td>\n",
              "      <td>11.0</td>\n",
              "      <td>15.0</td>\n",
              "      <td>14.0</td>\n",
              "      <td>8.0</td>\n",
              "      <td>226500000.0</td>\n",
              "    </tr>\n",
              "    <tr>\n",
              "      <th>1</th>\n",
              "      <td>Cristiano Ronaldo</td>\n",
              "      <td>33</td>\n",
              "      <td>Portugal</td>\n",
              "      <td>94</td>\n",
              "      <td>94</td>\n",
              "      <td>Juventus</td>\n",
              "      <td>77000000.0</td>\n",
              "      <td>405000.0</td>\n",
              "      <td>Right</td>\n",
              "      <td>5.0</td>\n",
              "      <td>...</td>\n",
              "      <td>95.0</td>\n",
              "      <td>28.0</td>\n",
              "      <td>31.0</td>\n",
              "      <td>23.0</td>\n",
              "      <td>7.0</td>\n",
              "      <td>11.0</td>\n",
              "      <td>15.0</td>\n",
              "      <td>14.0</td>\n",
              "      <td>11.0</td>\n",
              "      <td>127100000.0</td>\n",
              "    </tr>\n",
              "    <tr>\n",
              "      <th>2</th>\n",
              "      <td>Neymar Jr</td>\n",
              "      <td>26</td>\n",
              "      <td>Brazil</td>\n",
              "      <td>92</td>\n",
              "      <td>93</td>\n",
              "      <td>Paris Saint-Germain</td>\n",
              "      <td>118500000.0</td>\n",
              "      <td>290000.0</td>\n",
              "      <td>Right</td>\n",
              "      <td>5.0</td>\n",
              "      <td>...</td>\n",
              "      <td>94.0</td>\n",
              "      <td>27.0</td>\n",
              "      <td>24.0</td>\n",
              "      <td>33.0</td>\n",
              "      <td>9.0</td>\n",
              "      <td>9.0</td>\n",
              "      <td>15.0</td>\n",
              "      <td>15.0</td>\n",
              "      <td>11.0</td>\n",
              "      <td>228100000.0</td>\n",
              "    </tr>\n",
              "    <tr>\n",
              "      <th>3</th>\n",
              "      <td>De Gea</td>\n",
              "      <td>27</td>\n",
              "      <td>Spain</td>\n",
              "      <td>91</td>\n",
              "      <td>93</td>\n",
              "      <td>Manchester United</td>\n",
              "      <td>72000000.0</td>\n",
              "      <td>260000.0</td>\n",
              "      <td>Right</td>\n",
              "      <td>4.0</td>\n",
              "      <td>...</td>\n",
              "      <td>68.0</td>\n",
              "      <td>15.0</td>\n",
              "      <td>21.0</td>\n",
              "      <td>13.0</td>\n",
              "      <td>90.0</td>\n",
              "      <td>85.0</td>\n",
              "      <td>87.0</td>\n",
              "      <td>88.0</td>\n",
              "      <td>94.0</td>\n",
              "      <td>138600000.0</td>\n",
              "    </tr>\n",
              "    <tr>\n",
              "      <th>4</th>\n",
              "      <td>K. De Bruyne</td>\n",
              "      <td>27</td>\n",
              "      <td>Belgium</td>\n",
              "      <td>91</td>\n",
              "      <td>92</td>\n",
              "      <td>Manchester City</td>\n",
              "      <td>102000000.0</td>\n",
              "      <td>355000.0</td>\n",
              "      <td>Right</td>\n",
              "      <td>4.0</td>\n",
              "      <td>...</td>\n",
              "      <td>88.0</td>\n",
              "      <td>68.0</td>\n",
              "      <td>58.0</td>\n",
              "      <td>51.0</td>\n",
              "      <td>15.0</td>\n",
              "      <td>13.0</td>\n",
              "      <td>5.0</td>\n",
              "      <td>10.0</td>\n",
              "      <td>13.0</td>\n",
              "      <td>196400000.0</td>\n",
              "    </tr>\n",
              "    <tr>\n",
              "      <th>5</th>\n",
              "      <td>E. Hazard</td>\n",
              "      <td>27</td>\n",
              "      <td>Belgium</td>\n",
              "      <td>91</td>\n",
              "      <td>91</td>\n",
              "      <td>Chelsea</td>\n",
              "      <td>93000000.0</td>\n",
              "      <td>340000.0</td>\n",
              "      <td>Right</td>\n",
              "      <td>4.0</td>\n",
              "      <td>...</td>\n",
              "      <td>91.0</td>\n",
              "      <td>34.0</td>\n",
              "      <td>27.0</td>\n",
              "      <td>22.0</td>\n",
              "      <td>11.0</td>\n",
              "      <td>12.0</td>\n",
              "      <td>6.0</td>\n",
              "      <td>8.0</td>\n",
              "      <td>8.0</td>\n",
              "      <td>172100000.0</td>\n",
              "    </tr>\n",
              "    <tr>\n",
              "      <th>6</th>\n",
              "      <td>L. Modrić</td>\n",
              "      <td>32</td>\n",
              "      <td>Croatia</td>\n",
              "      <td>91</td>\n",
              "      <td>91</td>\n",
              "      <td>Real Madrid</td>\n",
              "      <td>67000000.0</td>\n",
              "      <td>420000.0</td>\n",
              "      <td>Right</td>\n",
              "      <td>4.0</td>\n",
              "      <td>...</td>\n",
              "      <td>84.0</td>\n",
              "      <td>60.0</td>\n",
              "      <td>76.0</td>\n",
              "      <td>73.0</td>\n",
              "      <td>13.0</td>\n",
              "      <td>9.0</td>\n",
              "      <td>7.0</td>\n",
              "      <td>14.0</td>\n",
              "      <td>9.0</td>\n",
              "      <td>137400000.0</td>\n",
              "    </tr>\n",
              "    <tr>\n",
              "      <th>7</th>\n",
              "      <td>L. Suárez</td>\n",
              "      <td>31</td>\n",
              "      <td>Uruguay</td>\n",
              "      <td>91</td>\n",
              "      <td>91</td>\n",
              "      <td>FC Barcelona</td>\n",
              "      <td>80000000.0</td>\n",
              "      <td>455000.0</td>\n",
              "      <td>Right</td>\n",
              "      <td>5.0</td>\n",
              "      <td>...</td>\n",
              "      <td>85.0</td>\n",
              "      <td>62.0</td>\n",
              "      <td>45.0</td>\n",
              "      <td>38.0</td>\n",
              "      <td>27.0</td>\n",
              "      <td>25.0</td>\n",
              "      <td>31.0</td>\n",
              "      <td>33.0</td>\n",
              "      <td>37.0</td>\n",
              "      <td>164000000.0</td>\n",
              "    </tr>\n",
              "    <tr>\n",
              "      <th>8</th>\n",
              "      <td>Sergio Ramos</td>\n",
              "      <td>32</td>\n",
              "      <td>Spain</td>\n",
              "      <td>91</td>\n",
              "      <td>91</td>\n",
              "      <td>Real Madrid</td>\n",
              "      <td>51000000.0</td>\n",
              "      <td>380000.0</td>\n",
              "      <td>Right</td>\n",
              "      <td>4.0</td>\n",
              "      <td>...</td>\n",
              "      <td>82.0</td>\n",
              "      <td>87.0</td>\n",
              "      <td>92.0</td>\n",
              "      <td>91.0</td>\n",
              "      <td>11.0</td>\n",
              "      <td>8.0</td>\n",
              "      <td>9.0</td>\n",
              "      <td>7.0</td>\n",
              "      <td>11.0</td>\n",
              "      <td>104600000.0</td>\n",
              "    </tr>\n",
              "    <tr>\n",
              "      <th>12</th>\n",
              "      <td>D. Godín</td>\n",
              "      <td>32</td>\n",
              "      <td>Uruguay</td>\n",
              "      <td>90</td>\n",
              "      <td>90</td>\n",
              "      <td>Atlético Madrid</td>\n",
              "      <td>44000000.0</td>\n",
              "      <td>125000.0</td>\n",
              "      <td>Right</td>\n",
              "      <td>3.0</td>\n",
              "      <td>...</td>\n",
              "      <td>82.0</td>\n",
              "      <td>90.0</td>\n",
              "      <td>89.0</td>\n",
              "      <td>89.0</td>\n",
              "      <td>6.0</td>\n",
              "      <td>8.0</td>\n",
              "      <td>15.0</td>\n",
              "      <td>5.0</td>\n",
              "      <td>15.0</td>\n",
              "      <td>90200000.0</td>\n",
              "    </tr>\n",
              "    <tr>\n",
              "      <th>13</th>\n",
              "      <td>David Silva</td>\n",
              "      <td>32</td>\n",
              "      <td>Spain</td>\n",
              "      <td>90</td>\n",
              "      <td>90</td>\n",
              "      <td>Manchester City</td>\n",
              "      <td>60000000.0</td>\n",
              "      <td>285000.0</td>\n",
              "      <td>Left</td>\n",
              "      <td>4.0</td>\n",
              "      <td>...</td>\n",
              "      <td>93.0</td>\n",
              "      <td>59.0</td>\n",
              "      <td>53.0</td>\n",
              "      <td>29.0</td>\n",
              "      <td>6.0</td>\n",
              "      <td>15.0</td>\n",
              "      <td>7.0</td>\n",
              "      <td>6.0</td>\n",
              "      <td>12.0</td>\n",
              "      <td>111000000.0</td>\n",
              "    </tr>\n",
              "    <tr>\n",
              "      <th>9</th>\n",
              "      <td>J. Oblak</td>\n",
              "      <td>25</td>\n",
              "      <td>Slovenia</td>\n",
              "      <td>90</td>\n",
              "      <td>93</td>\n",
              "      <td>Atlético Madrid</td>\n",
              "      <td>68000000.0</td>\n",
              "      <td>94000.0</td>\n",
              "      <td>Right</td>\n",
              "      <td>3.0</td>\n",
              "      <td>...</td>\n",
              "      <td>70.0</td>\n",
              "      <td>27.0</td>\n",
              "      <td>12.0</td>\n",
              "      <td>18.0</td>\n",
              "      <td>86.0</td>\n",
              "      <td>92.0</td>\n",
              "      <td>78.0</td>\n",
              "      <td>88.0</td>\n",
              "      <td>89.0</td>\n",
              "      <td>144500000.0</td>\n",
              "    </tr>\n",
              "    <tr>\n",
              "      <th>11</th>\n",
              "      <td>T. Kroos</td>\n",
              "      <td>28</td>\n",
              "      <td>Germany</td>\n",
              "      <td>90</td>\n",
              "      <td>90</td>\n",
              "      <td>Real Madrid</td>\n",
              "      <td>76500000.0</td>\n",
              "      <td>355000.0</td>\n",
              "      <td>Right</td>\n",
              "      <td>4.0</td>\n",
              "      <td>...</td>\n",
              "      <td>85.0</td>\n",
              "      <td>72.0</td>\n",
              "      <td>79.0</td>\n",
              "      <td>69.0</td>\n",
              "      <td>10.0</td>\n",
              "      <td>11.0</td>\n",
              "      <td>13.0</td>\n",
              "      <td>7.0</td>\n",
              "      <td>10.0</td>\n",
              "      <td>156800000.0</td>\n",
              "    </tr>\n",
              "    <tr>\n",
              "      <th>10</th>\n",
              "      <td>R. Lewandowski</td>\n",
              "      <td>29</td>\n",
              "      <td>Poland</td>\n",
              "      <td>90</td>\n",
              "      <td>90</td>\n",
              "      <td>FC Bayern München</td>\n",
              "      <td>77000000.0</td>\n",
              "      <td>205000.0</td>\n",
              "      <td>Right</td>\n",
              "      <td>4.0</td>\n",
              "      <td>...</td>\n",
              "      <td>86.0</td>\n",
              "      <td>34.0</td>\n",
              "      <td>42.0</td>\n",
              "      <td>19.0</td>\n",
              "      <td>15.0</td>\n",
              "      <td>6.0</td>\n",
              "      <td>12.0</td>\n",
              "      <td>8.0</td>\n",
              "      <td>10.0</td>\n",
              "      <td>127100000.0</td>\n",
              "    </tr>\n",
              "    <tr>\n",
              "      <th>20</th>\n",
              "      <td>Sergio Busquets</td>\n",
              "      <td>29</td>\n",
              "      <td>Spain</td>\n",
              "      <td>89</td>\n",
              "      <td>89</td>\n",
              "      <td>FC Barcelona</td>\n",
              "      <td>51500000.0</td>\n",
              "      <td>315000.0</td>\n",
              "      <td>Right</td>\n",
              "      <td>4.0</td>\n",
              "      <td>...</td>\n",
              "      <td>90.0</td>\n",
              "      <td>90.0</td>\n",
              "      <td>86.0</td>\n",
              "      <td>80.0</td>\n",
              "      <td>5.0</td>\n",
              "      <td>8.0</td>\n",
              "      <td>13.0</td>\n",
              "      <td>9.0</td>\n",
              "      <td>13.0</td>\n",
              "      <td>105600000.0</td>\n",
              "    </tr>\n",
              "    <tr>\n",
              "      <th>24</th>\n",
              "      <td>G. Chiellini</td>\n",
              "      <td>33</td>\n",
              "      <td>Italy</td>\n",
              "      <td>89</td>\n",
              "      <td>89</td>\n",
              "      <td>Juventus</td>\n",
              "      <td>27000000.0</td>\n",
              "      <td>215000.0</td>\n",
              "      <td>Left</td>\n",
              "      <td>4.0</td>\n",
              "      <td>...</td>\n",
              "      <td>84.0</td>\n",
              "      <td>93.0</td>\n",
              "      <td>93.0</td>\n",
              "      <td>90.0</td>\n",
              "      <td>3.0</td>\n",
              "      <td>3.0</td>\n",
              "      <td>2.0</td>\n",
              "      <td>4.0</td>\n",
              "      <td>3.0</td>\n",
              "      <td>44600000.0</td>\n",
              "    </tr>\n",
              "    <tr>\n",
              "      <th>23</th>\n",
              "      <td>S. Agüero</td>\n",
              "      <td>30</td>\n",
              "      <td>Argentina</td>\n",
              "      <td>89</td>\n",
              "      <td>89</td>\n",
              "      <td>Manchester City</td>\n",
              "      <td>64500000.0</td>\n",
              "      <td>300000.0</td>\n",
              "      <td>Right</td>\n",
              "      <td>4.0</td>\n",
              "      <td>...</td>\n",
              "      <td>90.0</td>\n",
              "      <td>30.0</td>\n",
              "      <td>20.0</td>\n",
              "      <td>12.0</td>\n",
              "      <td>13.0</td>\n",
              "      <td>15.0</td>\n",
              "      <td>6.0</td>\n",
              "      <td>11.0</td>\n",
              "      <td>14.0</td>\n",
              "      <td>119300000.0</td>\n",
              "    </tr>\n",
              "    <tr>\n",
              "      <th>22</th>\n",
              "      <td>M. Neuer</td>\n",
              "      <td>32</td>\n",
              "      <td>Germany</td>\n",
              "      <td>89</td>\n",
              "      <td>89</td>\n",
              "      <td>FC Bayern München</td>\n",
              "      <td>38000000.0</td>\n",
              "      <td>130000.0</td>\n",
              "      <td>Right</td>\n",
              "      <td>5.0</td>\n",
              "      <td>...</td>\n",
              "      <td>70.0</td>\n",
              "      <td>17.0</td>\n",
              "      <td>10.0</td>\n",
              "      <td>11.0</td>\n",
              "      <td>90.0</td>\n",
              "      <td>86.0</td>\n",
              "      <td>91.0</td>\n",
              "      <td>87.0</td>\n",
              "      <td>87.0</td>\n",
              "      <td>62700000.0</td>\n",
              "    </tr>\n",
              "    <tr>\n",
              "      <th>21</th>\n",
              "      <td>E. Cavani</td>\n",
              "      <td>31</td>\n",
              "      <td>Uruguay</td>\n",
              "      <td>89</td>\n",
              "      <td>89</td>\n",
              "      <td>Paris Saint-Germain</td>\n",
              "      <td>60000000.0</td>\n",
              "      <td>200000.0</td>\n",
              "      <td>Right</td>\n",
              "      <td>4.0</td>\n",
              "      <td>...</td>\n",
              "      <td>82.0</td>\n",
              "      <td>52.0</td>\n",
              "      <td>45.0</td>\n",
              "      <td>39.0</td>\n",
              "      <td>12.0</td>\n",
              "      <td>5.0</td>\n",
              "      <td>13.0</td>\n",
              "      <td>13.0</td>\n",
              "      <td>10.0</td>\n",
              "      <td>111000000.0</td>\n",
              "    </tr>\n",
              "    <tr>\n",
              "      <th>16</th>\n",
              "      <td>H. Kane</td>\n",
              "      <td>24</td>\n",
              "      <td>England</td>\n",
              "      <td>89</td>\n",
              "      <td>91</td>\n",
              "      <td>Tottenham Hotspur</td>\n",
              "      <td>83500000.0</td>\n",
              "      <td>205000.0</td>\n",
              "      <td>Right</td>\n",
              "      <td>3.0</td>\n",
              "      <td>...</td>\n",
              "      <td>89.0</td>\n",
              "      <td>56.0</td>\n",
              "      <td>36.0</td>\n",
              "      <td>38.0</td>\n",
              "      <td>8.0</td>\n",
              "      <td>10.0</td>\n",
              "      <td>11.0</td>\n",
              "      <td>14.0</td>\n",
              "      <td>11.0</td>\n",
              "      <td>160700000.0</td>\n",
              "    </tr>\n",
              "  </tbody>\n",
              "</table>\n",
              "<p>20 rows × 55 columns</p>\n",
              "</div>\n",
              "      <button class=\"colab-df-convert\" onclick=\"convertToInteractive('df-0648bb64-fdca-49c7-a188-44a24e85b22b')\"\n",
              "              title=\"Convert this dataframe to an interactive table.\"\n",
              "              style=\"display:none;\">\n",
              "        \n",
              "  <svg xmlns=\"http://www.w3.org/2000/svg\" height=\"24px\"viewBox=\"0 0 24 24\"\n",
              "       width=\"24px\">\n",
              "    <path d=\"M0 0h24v24H0V0z\" fill=\"none\"/>\n",
              "    <path d=\"M18.56 5.44l.94 2.06.94-2.06 2.06-.94-2.06-.94-.94-2.06-.94 2.06-2.06.94zm-11 1L8.5 8.5l.94-2.06 2.06-.94-2.06-.94L8.5 2.5l-.94 2.06-2.06.94zm10 10l.94 2.06.94-2.06 2.06-.94-2.06-.94-.94-2.06-.94 2.06-2.06.94z\"/><path d=\"M17.41 7.96l-1.37-1.37c-.4-.4-.92-.59-1.43-.59-.52 0-1.04.2-1.43.59L10.3 9.45l-7.72 7.72c-.78.78-.78 2.05 0 2.83L4 21.41c.39.39.9.59 1.41.59.51 0 1.02-.2 1.41-.59l7.78-7.78 2.81-2.81c.8-.78.8-2.07 0-2.86zM5.41 20L4 18.59l7.72-7.72 1.47 1.35L5.41 20z\"/>\n",
              "  </svg>\n",
              "      </button>\n",
              "      \n",
              "  <style>\n",
              "    .colab-df-container {\n",
              "      display:flex;\n",
              "      flex-wrap:wrap;\n",
              "      gap: 12px;\n",
              "    }\n",
              "\n",
              "    .colab-df-convert {\n",
              "      background-color: #E8F0FE;\n",
              "      border: none;\n",
              "      border-radius: 50%;\n",
              "      cursor: pointer;\n",
              "      display: none;\n",
              "      fill: #1967D2;\n",
              "      height: 32px;\n",
              "      padding: 0 0 0 0;\n",
              "      width: 32px;\n",
              "    }\n",
              "\n",
              "    .colab-df-convert:hover {\n",
              "      background-color: #E2EBFA;\n",
              "      box-shadow: 0px 1px 2px rgba(60, 64, 67, 0.3), 0px 1px 3px 1px rgba(60, 64, 67, 0.15);\n",
              "      fill: #174EA6;\n",
              "    }\n",
              "\n",
              "    [theme=dark] .colab-df-convert {\n",
              "      background-color: #3B4455;\n",
              "      fill: #D2E3FC;\n",
              "    }\n",
              "\n",
              "    [theme=dark] .colab-df-convert:hover {\n",
              "      background-color: #434B5C;\n",
              "      box-shadow: 0px 1px 3px 1px rgba(0, 0, 0, 0.15);\n",
              "      filter: drop-shadow(0px 1px 2px rgba(0, 0, 0, 0.3));\n",
              "      fill: #FFFFFF;\n",
              "    }\n",
              "  </style>\n",
              "\n",
              "      <script>\n",
              "        const buttonEl =\n",
              "          document.querySelector('#df-0648bb64-fdca-49c7-a188-44a24e85b22b button.colab-df-convert');\n",
              "        buttonEl.style.display =\n",
              "          google.colab.kernel.accessAllowed ? 'block' : 'none';\n",
              "\n",
              "        async function convertToInteractive(key) {\n",
              "          const element = document.querySelector('#df-0648bb64-fdca-49c7-a188-44a24e85b22b');\n",
              "          const dataTable =\n",
              "            await google.colab.kernel.invokeFunction('convertToInteractive',\n",
              "                                                     [key], {});\n",
              "          if (!dataTable) return;\n",
              "\n",
              "          const docLinkHtml = 'Like what you see? Visit the ' +\n",
              "            '<a target=\"_blank\" href=https://colab.research.google.com/notebooks/data_table.ipynb>data table notebook</a>'\n",
              "            + ' to learn more about interactive tables.';\n",
              "          element.innerHTML = '';\n",
              "          dataTable['output_type'] = 'display_data';\n",
              "          await google.colab.output.renderOutput(dataTable, element);\n",
              "          const docLink = document.createElement('div');\n",
              "          docLink.innerHTML = docLinkHtml;\n",
              "          element.appendChild(docLink);\n",
              "        }\n",
              "      </script>\n",
              "    </div>\n",
              "  </div>\n",
              "  "
            ]
          },
          "metadata": {},
          "execution_count": 23
        }
      ]
    },
    {
      "cell_type": "markdown",
      "source": [
        "# 13. What is the average \"Age\" and \"Wage\" of these top 20 players? (use the data frame created in the question 11)"
      ],
      "metadata": {
        "id": "sugJ4rW1JMcI"
      }
    },
    {
      "cell_type": "code",
      "source": [
        "avg_age = top_20_names['Age'].mean()\n",
        "avg_wage = top_20_names['Wage'].mean()\n",
        "\n",
        "print(\"Average age of top 20 players is \", avg_age, \" years\")\n",
        "print(\"Average wage of top 20 players is €\", avg_wage)"
      ],
      "metadata": {
        "colab": {
          "base_uri": "https://localhost:8080/"
        },
        "id": "G3aGPxrxJSk_",
        "outputId": "c3544e12-9a6b-4f66-c832-2d696ec237f3"
      },
      "execution_count": 24,
      "outputs": [
        {
          "output_type": "stream",
          "name": "stdout",
          "text": [
            "Average age of top 20 players is  29.55  years\n",
            "Average wage of top 20 players is € 294950.0\n"
          ]
        }
      ]
    },
    {
      "cell_type": "markdown",
      "source": [
        "# 14. Among the top 20 players based on the Overall rating, which player has the highest wage? Display the name of the player with his wage."
      ],
      "metadata": {
        "id": "yleaWfjjJcZ_"
      }
    },
    {
      "cell_type": "code",
      "source": [
        "max_wage = top_20_players.sort_values(by=\"Wage\", axis=0, ascending=False).head(1)\n",
        "max_wage[['Name', 'Wage']]"
      ],
      "metadata": {
        "colab": {
          "base_uri": "https://localhost:8080/",
          "height": 81
        },
        "id": "UgpsPK3lJf83",
        "outputId": "db937f03-0cc8-4537-d5a1-caef1043c4a5"
      },
      "execution_count": 25,
      "outputs": [
        {
          "output_type": "execute_result",
          "data": {
            "text/plain": [
              "       Name      Wage\n",
              "0  L. Messi  565000.0"
            ],
            "text/html": [
              "\n",
              "  <div id=\"df-71d5b15b-8706-4dee-8049-dbd6fd49a26f\">\n",
              "    <div class=\"colab-df-container\">\n",
              "      <div>\n",
              "<style scoped>\n",
              "    .dataframe tbody tr th:only-of-type {\n",
              "        vertical-align: middle;\n",
              "    }\n",
              "\n",
              "    .dataframe tbody tr th {\n",
              "        vertical-align: top;\n",
              "    }\n",
              "\n",
              "    .dataframe thead th {\n",
              "        text-align: right;\n",
              "    }\n",
              "</style>\n",
              "<table border=\"1\" class=\"dataframe\">\n",
              "  <thead>\n",
              "    <tr style=\"text-align: right;\">\n",
              "      <th></th>\n",
              "      <th>Name</th>\n",
              "      <th>Wage</th>\n",
              "    </tr>\n",
              "  </thead>\n",
              "  <tbody>\n",
              "    <tr>\n",
              "      <th>0</th>\n",
              "      <td>L. Messi</td>\n",
              "      <td>565000.0</td>\n",
              "    </tr>\n",
              "  </tbody>\n",
              "</table>\n",
              "</div>\n",
              "      <button class=\"colab-df-convert\" onclick=\"convertToInteractive('df-71d5b15b-8706-4dee-8049-dbd6fd49a26f')\"\n",
              "              title=\"Convert this dataframe to an interactive table.\"\n",
              "              style=\"display:none;\">\n",
              "        \n",
              "  <svg xmlns=\"http://www.w3.org/2000/svg\" height=\"24px\"viewBox=\"0 0 24 24\"\n",
              "       width=\"24px\">\n",
              "    <path d=\"M0 0h24v24H0V0z\" fill=\"none\"/>\n",
              "    <path d=\"M18.56 5.44l.94 2.06.94-2.06 2.06-.94-2.06-.94-.94-2.06-.94 2.06-2.06.94zm-11 1L8.5 8.5l.94-2.06 2.06-.94-2.06-.94L8.5 2.5l-.94 2.06-2.06.94zm10 10l.94 2.06.94-2.06 2.06-.94-2.06-.94-.94-2.06-.94 2.06-2.06.94z\"/><path d=\"M17.41 7.96l-1.37-1.37c-.4-.4-.92-.59-1.43-.59-.52 0-1.04.2-1.43.59L10.3 9.45l-7.72 7.72c-.78.78-.78 2.05 0 2.83L4 21.41c.39.39.9.59 1.41.59.51 0 1.02-.2 1.41-.59l7.78-7.78 2.81-2.81c.8-.78.8-2.07 0-2.86zM5.41 20L4 18.59l7.72-7.72 1.47 1.35L5.41 20z\"/>\n",
              "  </svg>\n",
              "      </button>\n",
              "      \n",
              "  <style>\n",
              "    .colab-df-container {\n",
              "      display:flex;\n",
              "      flex-wrap:wrap;\n",
              "      gap: 12px;\n",
              "    }\n",
              "\n",
              "    .colab-df-convert {\n",
              "      background-color: #E8F0FE;\n",
              "      border: none;\n",
              "      border-radius: 50%;\n",
              "      cursor: pointer;\n",
              "      display: none;\n",
              "      fill: #1967D2;\n",
              "      height: 32px;\n",
              "      padding: 0 0 0 0;\n",
              "      width: 32px;\n",
              "    }\n",
              "\n",
              "    .colab-df-convert:hover {\n",
              "      background-color: #E2EBFA;\n",
              "      box-shadow: 0px 1px 2px rgba(60, 64, 67, 0.3), 0px 1px 3px 1px rgba(60, 64, 67, 0.15);\n",
              "      fill: #174EA6;\n",
              "    }\n",
              "\n",
              "    [theme=dark] .colab-df-convert {\n",
              "      background-color: #3B4455;\n",
              "      fill: #D2E3FC;\n",
              "    }\n",
              "\n",
              "    [theme=dark] .colab-df-convert:hover {\n",
              "      background-color: #434B5C;\n",
              "      box-shadow: 0px 1px 3px 1px rgba(0, 0, 0, 0.15);\n",
              "      filter: drop-shadow(0px 1px 2px rgba(0, 0, 0, 0.3));\n",
              "      fill: #FFFFFF;\n",
              "    }\n",
              "  </style>\n",
              "\n",
              "      <script>\n",
              "        const buttonEl =\n",
              "          document.querySelector('#df-71d5b15b-8706-4dee-8049-dbd6fd49a26f button.colab-df-convert');\n",
              "        buttonEl.style.display =\n",
              "          google.colab.kernel.accessAllowed ? 'block' : 'none';\n",
              "\n",
              "        async function convertToInteractive(key) {\n",
              "          const element = document.querySelector('#df-71d5b15b-8706-4dee-8049-dbd6fd49a26f');\n",
              "          const dataTable =\n",
              "            await google.colab.kernel.invokeFunction('convertToInteractive',\n",
              "                                                     [key], {});\n",
              "          if (!dataTable) return;\n",
              "\n",
              "          const docLinkHtml = 'Like what you see? Visit the ' +\n",
              "            '<a target=\"_blank\" href=https://colab.research.google.com/notebooks/data_table.ipynb>data table notebook</a>'\n",
              "            + ' to learn more about interactive tables.';\n",
              "          element.innerHTML = '';\n",
              "          dataTable['output_type'] = 'display_data';\n",
              "          await google.colab.output.renderOutput(dataTable, element);\n",
              "          const docLink = document.createElement('div');\n",
              "          docLink.innerHTML = docLinkHtml;\n",
              "          element.appendChild(docLink);\n",
              "        }\n",
              "      </script>\n",
              "    </div>\n",
              "  </div>\n",
              "  "
            ]
          },
          "metadata": {},
          "execution_count": 25
        }
      ]
    },
    {
      "cell_type": "markdown",
      "source": [
        "# 15. Generate a dataframe which should include the \"Player name\", \"Club Name\", \"Wage\", and 'Overall rating'.\n",
        "i) find the average Overall rating for each club.\n",
        "\n",
        "ii) Display the average overall rating of Top10 Clubs using a plot"
      ],
      "metadata": {
        "id": "Fk1GxAxKJfHf"
      }
    },
    {
      "cell_type": "markdown",
      "source": [
        "Creation of dataframe with \"Player name\", \"Club Name\", \"Wage\", and \"Overall rating\" columns"
      ],
      "metadata": {
        "id": "fANQ9_svJ2Vp"
      }
    },
    {
      "cell_type": "code",
      "source": [
        "df_clubs = df[['Name', 'Club', 'Wage', 'Overall']]\n",
        "df_clubs.head()"
      ],
      "metadata": {
        "colab": {
          "base_uri": "https://localhost:8080/",
          "height": 206
        },
        "id": "DZPtnmgaJuWo",
        "outputId": "999524a5-c7bc-43f3-f88c-9919a12c3790"
      },
      "execution_count": 26,
      "outputs": [
        {
          "output_type": "execute_result",
          "data": {
            "text/plain": [
              "                Name                 Club      Wage  Overall\n",
              "0           L. Messi         FC Barcelona  565000.0       94\n",
              "1  Cristiano Ronaldo             Juventus  405000.0       94\n",
              "2          Neymar Jr  Paris Saint-Germain  290000.0       92\n",
              "3             De Gea    Manchester United  260000.0       91\n",
              "4       K. De Bruyne      Manchester City  355000.0       91"
            ],
            "text/html": [
              "\n",
              "  <div id=\"df-1d90b0b9-40b3-4ca4-84ab-4f8a7b49d5e8\">\n",
              "    <div class=\"colab-df-container\">\n",
              "      <div>\n",
              "<style scoped>\n",
              "    .dataframe tbody tr th:only-of-type {\n",
              "        vertical-align: middle;\n",
              "    }\n",
              "\n",
              "    .dataframe tbody tr th {\n",
              "        vertical-align: top;\n",
              "    }\n",
              "\n",
              "    .dataframe thead th {\n",
              "        text-align: right;\n",
              "    }\n",
              "</style>\n",
              "<table border=\"1\" class=\"dataframe\">\n",
              "  <thead>\n",
              "    <tr style=\"text-align: right;\">\n",
              "      <th></th>\n",
              "      <th>Name</th>\n",
              "      <th>Club</th>\n",
              "      <th>Wage</th>\n",
              "      <th>Overall</th>\n",
              "    </tr>\n",
              "  </thead>\n",
              "  <tbody>\n",
              "    <tr>\n",
              "      <th>0</th>\n",
              "      <td>L. Messi</td>\n",
              "      <td>FC Barcelona</td>\n",
              "      <td>565000.0</td>\n",
              "      <td>94</td>\n",
              "    </tr>\n",
              "    <tr>\n",
              "      <th>1</th>\n",
              "      <td>Cristiano Ronaldo</td>\n",
              "      <td>Juventus</td>\n",
              "      <td>405000.0</td>\n",
              "      <td>94</td>\n",
              "    </tr>\n",
              "    <tr>\n",
              "      <th>2</th>\n",
              "      <td>Neymar Jr</td>\n",
              "      <td>Paris Saint-Germain</td>\n",
              "      <td>290000.0</td>\n",
              "      <td>92</td>\n",
              "    </tr>\n",
              "    <tr>\n",
              "      <th>3</th>\n",
              "      <td>De Gea</td>\n",
              "      <td>Manchester United</td>\n",
              "      <td>260000.0</td>\n",
              "      <td>91</td>\n",
              "    </tr>\n",
              "    <tr>\n",
              "      <th>4</th>\n",
              "      <td>K. De Bruyne</td>\n",
              "      <td>Manchester City</td>\n",
              "      <td>355000.0</td>\n",
              "      <td>91</td>\n",
              "    </tr>\n",
              "  </tbody>\n",
              "</table>\n",
              "</div>\n",
              "      <button class=\"colab-df-convert\" onclick=\"convertToInteractive('df-1d90b0b9-40b3-4ca4-84ab-4f8a7b49d5e8')\"\n",
              "              title=\"Convert this dataframe to an interactive table.\"\n",
              "              style=\"display:none;\">\n",
              "        \n",
              "  <svg xmlns=\"http://www.w3.org/2000/svg\" height=\"24px\"viewBox=\"0 0 24 24\"\n",
              "       width=\"24px\">\n",
              "    <path d=\"M0 0h24v24H0V0z\" fill=\"none\"/>\n",
              "    <path d=\"M18.56 5.44l.94 2.06.94-2.06 2.06-.94-2.06-.94-.94-2.06-.94 2.06-2.06.94zm-11 1L8.5 8.5l.94-2.06 2.06-.94-2.06-.94L8.5 2.5l-.94 2.06-2.06.94zm10 10l.94 2.06.94-2.06 2.06-.94-2.06-.94-.94-2.06-.94 2.06-2.06.94z\"/><path d=\"M17.41 7.96l-1.37-1.37c-.4-.4-.92-.59-1.43-.59-.52 0-1.04.2-1.43.59L10.3 9.45l-7.72 7.72c-.78.78-.78 2.05 0 2.83L4 21.41c.39.39.9.59 1.41.59.51 0 1.02-.2 1.41-.59l7.78-7.78 2.81-2.81c.8-.78.8-2.07 0-2.86zM5.41 20L4 18.59l7.72-7.72 1.47 1.35L5.41 20z\"/>\n",
              "  </svg>\n",
              "      </button>\n",
              "      \n",
              "  <style>\n",
              "    .colab-df-container {\n",
              "      display:flex;\n",
              "      flex-wrap:wrap;\n",
              "      gap: 12px;\n",
              "    }\n",
              "\n",
              "    .colab-df-convert {\n",
              "      background-color: #E8F0FE;\n",
              "      border: none;\n",
              "      border-radius: 50%;\n",
              "      cursor: pointer;\n",
              "      display: none;\n",
              "      fill: #1967D2;\n",
              "      height: 32px;\n",
              "      padding: 0 0 0 0;\n",
              "      width: 32px;\n",
              "    }\n",
              "\n",
              "    .colab-df-convert:hover {\n",
              "      background-color: #E2EBFA;\n",
              "      box-shadow: 0px 1px 2px rgba(60, 64, 67, 0.3), 0px 1px 3px 1px rgba(60, 64, 67, 0.15);\n",
              "      fill: #174EA6;\n",
              "    }\n",
              "\n",
              "    [theme=dark] .colab-df-convert {\n",
              "      background-color: #3B4455;\n",
              "      fill: #D2E3FC;\n",
              "    }\n",
              "\n",
              "    [theme=dark] .colab-df-convert:hover {\n",
              "      background-color: #434B5C;\n",
              "      box-shadow: 0px 1px 3px 1px rgba(0, 0, 0, 0.15);\n",
              "      filter: drop-shadow(0px 1px 2px rgba(0, 0, 0, 0.3));\n",
              "      fill: #FFFFFF;\n",
              "    }\n",
              "  </style>\n",
              "\n",
              "      <script>\n",
              "        const buttonEl =\n",
              "          document.querySelector('#df-1d90b0b9-40b3-4ca4-84ab-4f8a7b49d5e8 button.colab-df-convert');\n",
              "        buttonEl.style.display =\n",
              "          google.colab.kernel.accessAllowed ? 'block' : 'none';\n",
              "\n",
              "        async function convertToInteractive(key) {\n",
              "          const element = document.querySelector('#df-1d90b0b9-40b3-4ca4-84ab-4f8a7b49d5e8');\n",
              "          const dataTable =\n",
              "            await google.colab.kernel.invokeFunction('convertToInteractive',\n",
              "                                                     [key], {});\n",
              "          if (!dataTable) return;\n",
              "\n",
              "          const docLinkHtml = 'Like what you see? Visit the ' +\n",
              "            '<a target=\"_blank\" href=https://colab.research.google.com/notebooks/data_table.ipynb>data table notebook</a>'\n",
              "            + ' to learn more about interactive tables.';\n",
              "          element.innerHTML = '';\n",
              "          dataTable['output_type'] = 'display_data';\n",
              "          await google.colab.output.renderOutput(dataTable, element);\n",
              "          const docLink = document.createElement('div');\n",
              "          docLink.innerHTML = docLinkHtml;\n",
              "          element.appendChild(docLink);\n",
              "        }\n",
              "      </script>\n",
              "    </div>\n",
              "  </div>\n",
              "  "
            ]
          },
          "metadata": {},
          "execution_count": 26
        }
      ]
    },
    {
      "cell_type": "markdown",
      "source": [
        "Calculation of average rating for each club"
      ],
      "metadata": {
        "id": "Xb0PTtyKJ_4H"
      }
    },
    {
      "cell_type": "code",
      "source": [
        "df_clubs_average_rating = df_clubs.groupby('Club')['Overall'].mean()\n",
        "df_clubs_average_rating"
      ],
      "metadata": {
        "colab": {
          "base_uri": "https://localhost:8080/"
        },
        "id": "qrO7owHeKEYA",
        "outputId": "77217866-d58e-4b3c-9c89-043e211e918e"
      },
      "execution_count": 27,
      "outputs": [
        {
          "output_type": "execute_result",
          "data": {
            "text/plain": [
              "Club\n",
              " SSV Jahn Regensburg     65.586207\n",
              "1. FC Heidenheim 1846    65.750000\n",
              "1. FC Kaiserslautern     63.384615\n",
              "1. FC Köln               70.785714\n",
              "1. FC Magdeburg          65.615385\n",
              "                           ...    \n",
              "Zagłębie Sosnowiec       60.760000\n",
              "Çaykur Rizespor          66.900000\n",
              "Örebro SK                60.481481\n",
              "Östersunds FK            63.545455\n",
              "Śląsk Wrocław            62.200000\n",
              "Name: Overall, Length: 651, dtype: float64"
            ]
          },
          "metadata": {},
          "execution_count": 27
        }
      ]
    },
    {
      "cell_type": "markdown",
      "source": [
        "Average overall rating for Top 10 clubs"
      ],
      "metadata": {
        "id": "gaWhHd0UKM_H"
      }
    },
    {
      "cell_type": "code",
      "source": [
        "df_clubs_average_rating.sort_values(ascending=False).head(10).plot(kind='bar')\n",
        "plt.show()"
      ],
      "metadata": {
        "colab": {
          "base_uri": "https://localhost:8080/",
          "height": 369
        },
        "id": "b83VEz9bKQYv",
        "outputId": "6c133004-0227-411e-8bfd-bf21f4fc948d"
      },
      "execution_count": 28,
      "outputs": [
        {
          "output_type": "display_data",
          "data": {
            "text/plain": [
              "<Figure size 432x288 with 1 Axes>"
            ],
            "image/png": "[encoded data removed]"
          },
          "metadata": {
            "needs_background": "light"
          }
        }
      ]
    },
    {
      "cell_type": "markdown",
      "source": [
        "# 16. What is the relationship between age and individual potential of the player? Visualize the relationship with appropriate plot and Comment on the same. "
      ],
      "metadata": {
        "id": "uvZP5vPRKTqF"
      }
    },
    {
      "cell_type": "code",
      "source": [
        "sns.heatmap(df[['Age','Potential']].corr(), cmap='YlGnBu', annot=True)"
      ],
      "metadata": {
        "colab": {
          "base_uri": "https://localhost:8080/",
          "height": 286
        },
        "id": "a6mCPtGgKZgo",
        "outputId": "0655ffa4-f276-408d-b1cc-7b127f9462ff"
      },
      "execution_count": 31,
      "outputs": [
        {
          "output_type": "execute_result",
          "data": {
            "text/plain": [
              "<matplotlib.axes._subplots.AxesSubplot at 0x7efdbb5add50>"
            ]
          },
          "metadata": {},
          "execution_count": 31
        },
        {
          "output_type": "display_data",
          "data": {
            "text/plain": [
              "<Figure size 432x288 with 2 Axes>"
            ],
            "image/png": "[encoded data removed]"
          },
          "metadata": {
            "needs_background": "light"
          }
        }
      ]
    },
    {
      "cell_type": "markdown",
      "source": [
        "player age and potential is having negative relationship. With the increase in age player potential decreases."
      ],
      "metadata": {
        "id": "a3NnPxATKoS4"
      }
    },
    {
      "cell_type": "markdown",
      "source": [
        "# 17. Which features directly contribute to the wages of the players? Support your answer with a plot and a metric"
      ],
      "metadata": {
        "id": "36r4DSSyKyX4"
      }
    },
    {
      "cell_type": "code",
      "source": [
        "columns = ['Wage', 'Potential', 'Overall', 'Value', 'International Reputation', 'Release Clause']\n",
        "sns.heatmap(df[columns].corr(), cmap='PuBuGn', annot=True)"
      ],
      "metadata": {
        "colab": {
          "base_uri": "https://localhost:8080/",
          "height": 398
        },
        "id": "UX0mzdNVK5WY",
        "outputId": "d98ff79b-e2d2-4e20-bc91-25581e9ee789"
      },
      "execution_count": 32,
      "outputs": [
        {
          "output_type": "execute_result",
          "data": {
            "text/plain": [
              "<matplotlib.axes._subplots.AxesSubplot at 0x7efdbb4ec1d0>"
            ]
          },
          "metadata": {},
          "execution_count": 32
        },
        {
          "output_type": "display_data",
          "data": {
            "text/plain": [
              "<Figure size 432x288 with 2 Axes>"
            ],
            "image/png": "[encoded data removed]"
          },
          "metadata": {
            "needs_background": "light"
          }
        }
      ]
    },
    {
      "cell_type": "code",
      "source": [
        "sns.pairplot(df[columns])\n",
        "plt.show()"
      ],
      "metadata": {
        "colab": {
          "base_uri": "https://localhost:8080/",
          "height": 1000
        },
        "id": "v1H6TbSPLZQm",
        "outputId": "be1a74a1-4a6b-4e35-f189-2fb37fea7be7"
      },
      "execution_count": 33,
      "outputs": [
        {
          "output_type": "display_data",
          "data": {
            "text/plain": [
              "<Figure size 1080x1080 with 42 Axes>"
            ],
            "image/png": "[encoded data removed]"
          },
          "metadata": {
            "needs_background": "light"
          }
        }
      ]
    },
    {
      "cell_type": "markdown",
      "source": [
        "Corellation of Value is 0.86 to the wage and release clause also"
      ],
      "metadata": {
        "id": "keDKKbY-MF4A"
      }
    },
    {
      "cell_type": "markdown",
      "source": [
        "# 18. Find the position in the pitch where the maximum number of players play and the position where the minimum number of players play? Display it using a plot."
      ],
      "metadata": {
        "id": "u5BjznUIMZLo"
      }
    },
    {
      "cell_type": "code",
      "source": [
        "df_position = df.groupby('Position')['Position'].count().sort_values(ascending=False)\n",
        "df_position"
      ],
      "metadata": {
        "colab": {
          "base_uri": "https://localhost:8080/"
        },
        "id": "7wV8lUY7McuH",
        "outputId": "89b99c9e-9765-4405-fbc4-eb03cb303aca"
      },
      "execution_count": 34,
      "outputs": [
        {
          "output_type": "execute_result",
          "data": {
            "text/plain": [
              "Position\n",
              "ST     2152\n",
              "GK     2025\n",
              "CB     1778\n",
              "CM     1394\n",
              "LB     1322\n",
              "RB     1291\n",
              "RM     1124\n",
              "LM     1095\n",
              "CAM     958\n",
              "CDM     948\n",
              "RCB     662\n",
              "LCB     648\n",
              "LCM     395\n",
              "RCM     391\n",
              "LW      381\n",
              "RW      370\n",
              "RDM     248\n",
              "LDM     243\n",
              "LS      207\n",
              "RS      203\n",
              "RWB      87\n",
              "LWB      78\n",
              "CF       74\n",
              "LAM      21\n",
              "RAM      21\n",
              "RF       16\n",
              "LF       15\n",
              "Name: Position, dtype: int64"
            ]
          },
          "metadata": {},
          "execution_count": 34
        }
      ]
    },
    {
      "cell_type": "markdown",
      "source": [
        "2152 players at ST and 15 players at LF"
      ],
      "metadata": {
        "id": "eaAydGrGM1ij"
      }
    },
    {
      "cell_type": "code",
      "source": [
        "df_position.plot(kind='bar')"
      ],
      "metadata": {
        "colab": {
          "base_uri": "https://localhost:8080/",
          "height": 310
        },
        "id": "WVk-__yKNAQB",
        "outputId": "6409debe-a543-4225-a5a9-80d6e2b97236"
      },
      "execution_count": 35,
      "outputs": [
        {
          "output_type": "execute_result",
          "data": {
            "text/plain": [
              "<matplotlib.axes._subplots.AxesSubplot at 0x7efdb8341f10>"
            ]
          },
          "metadata": {},
          "execution_count": 35
        },
        {
          "output_type": "display_data",
          "data": {
            "text/plain": [
              "<Figure size 432x288 with 1 Axes>"
            ],
            "image/png": "[encoded data removed]"
          },
          "metadata": {
            "needs_background": "light"
          }
        }
      ]
    },
    {
      "cell_type": "markdown",
      "source": [
        "# 19. How many players are from the club 'Juventus' and the wage is greater than 200K? Display all the information of such players."
      ],
      "metadata": {
        "id": "3RJ-_dITNeTf"
      }
    },
    {
      "cell_type": "code",
      "source": [
        "df_juventes = df[(df['Wage']>200000) & (df['Club']=='Juventus')]\n",
        "df_juventes"
      ],
      "metadata": {
        "colab": {
          "base_uri": "https://localhost:8080/",
          "height": 306
        },
        "id": "cWXjH_H4NiGP",
        "outputId": "012fa49b-8c84-45f6-a77e-4068fd2216ef"
      },
      "execution_count": 36,
      "outputs": [
        {
          "output_type": "execute_result",
          "data": {
            "text/plain": [
              "                 Name  Age Nationality  Overall  Potential      Club  \\\n",
              "1   Cristiano Ronaldo   33    Portugal       94         94  Juventus   \n",
              "15          P. Dybala   24   Argentina       89         94  Juventus   \n",
              "24       G. Chiellini   33       Italy       89         89  Juventus   \n",
              "\n",
              "         Value      Wage Preferred Foot  International Reputation  ...  \\\n",
              "1   77000000.0  405000.0          Right                       5.0  ...   \n",
              "15  89000000.0  205000.0           Left                       3.0  ...   \n",
              "24  27000000.0  215000.0           Left                       4.0  ...   \n",
              "\n",
              "    Composure  Marking StandingTackle SlidingTackle GKDiving  GKHandling  \\\n",
              "1        95.0     28.0           31.0          23.0      7.0        11.0   \n",
              "15       84.0     23.0           20.0          20.0      5.0         4.0   \n",
              "24       84.0     93.0           93.0          90.0      3.0         3.0   \n",
              "\n",
              "    GKKicking GKPositioning  GKReflexes  Release Clause  \n",
              "1        15.0          14.0        11.0     127100000.0  \n",
              "15        4.0           5.0         8.0     153500000.0  \n",
              "24        2.0           4.0         3.0      44600000.0  \n",
              "\n",
              "[3 rows x 55 columns]"
            ],
            "text/html": [
              "\n",
              "  <div id=\"df-57f522df-6a62-4c7a-96c4-54e7927daeba\">\n",
              "    <div class=\"colab-df-container\">\n",
              "      <div>\n",
              "<style scoped>\n",
              "    .dataframe tbody tr th:only-of-type {\n",
              "        vertical-align: middle;\n",
              "    }\n",
              "\n",
              "    .dataframe tbody tr th {\n",
              "        vertical-align: top;\n",
              "    }\n",
              "\n",
              "    .dataframe thead th {\n",
              "        text-align: right;\n",
              "    }\n",
              "</style>\n",
              "<table border=\"1\" class=\"dataframe\">\n",
              "  <thead>\n",
              "    <tr style=\"text-align: right;\">\n",
              "      <th></th>\n",
              "      <th>Name</th>\n",
              "      <th>Age</th>\n",
              "      <th>Nationality</th>\n",
              "      <th>Overall</th>\n",
              "      <th>Potential</th>\n",
              "      <th>Club</th>\n",
              "      <th>Value</th>\n",
              "      <th>Wage</th>\n",
              "      <th>Preferred Foot</th>\n",
              "      <th>International Reputation</th>\n",
              "      <th>...</th>\n",
              "      <th>Composure</th>\n",
              "      <th>Marking</th>\n",
              "      <th>StandingTackle</th>\n",
              "      <th>SlidingTackle</th>\n",
              "      <th>GKDiving</th>\n",
              "      <th>GKHandling</th>\n",
              "      <th>GKKicking</th>\n",
              "      <th>GKPositioning</th>\n",
              "      <th>GKReflexes</th>\n",
              "      <th>Release Clause</th>\n",
              "    </tr>\n",
              "  </thead>\n",
              "  <tbody>\n",
              "    <tr>\n",
              "      <th>1</th>\n",
              "      <td>Cristiano Ronaldo</td>\n",
              "      <td>33</td>\n",
              "      <td>Portugal</td>\n",
              "      <td>94</td>\n",
              "      <td>94</td>\n",
              "      <td>Juventus</td>\n",
              "      <td>77000000.0</td>\n",
              "      <td>405000.0</td>\n",
              "      <td>Right</td>\n",
              "      <td>5.0</td>\n",
              "      <td>...</td>\n",
              "      <td>95.0</td>\n",
              "      <td>28.0</td>\n",
              "      <td>31.0</td>\n",
              "      <td>23.0</td>\n",
              "      <td>7.0</td>\n",
              "      <td>11.0</td>\n",
              "      <td>15.0</td>\n",
              "      <td>14.0</td>\n",
              "      <td>11.0</td>\n",
              "      <td>127100000.0</td>\n",
              "    </tr>\n",
              "    <tr>\n",
              "      <th>15</th>\n",
              "      <td>P. Dybala</td>\n",
              "      <td>24</td>\n",
              "      <td>Argentina</td>\n",
              "      <td>89</td>\n",
              "      <td>94</td>\n",
              "      <td>Juventus</td>\n",
              "      <td>89000000.0</td>\n",
              "      <td>205000.0</td>\n",
              "      <td>Left</td>\n",
              "      <td>3.0</td>\n",
              "      <td>...</td>\n",
              "      <td>84.0</td>\n",
              "      <td>23.0</td>\n",
              "      <td>20.0</td>\n",
              "      <td>20.0</td>\n",
              "      <td>5.0</td>\n",
              "      <td>4.0</td>\n",
              "      <td>4.0</td>\n",
              "      <td>5.0</td>\n",
              "      <td>8.0</td>\n",
              "      <td>153500000.0</td>\n",
              "    </tr>\n",
              "    <tr>\n",
              "      <th>24</th>\n",
              "      <td>G. Chiellini</td>\n",
              "      <td>33</td>\n",
              "      <td>Italy</td>\n",
              "      <td>89</td>\n",
              "      <td>89</td>\n",
              "      <td>Juventus</td>\n",
              "      <td>27000000.0</td>\n",
              "      <td>215000.0</td>\n",
              "      <td>Left</td>\n",
              "      <td>4.0</td>\n",
              "      <td>...</td>\n",
              "      <td>84.0</td>\n",
              "      <td>93.0</td>\n",
              "      <td>93.0</td>\n",
              "      <td>90.0</td>\n",
              "      <td>3.0</td>\n",
              "      <td>3.0</td>\n",
              "      <td>2.0</td>\n",
              "      <td>4.0</td>\n",
              "      <td>3.0</td>\n",
              "      <td>44600000.0</td>\n",
              "    </tr>\n",
              "  </tbody>\n",
              "</table>\n",
              "<p>3 rows × 55 columns</p>\n",
              "</div>\n",
              "      <button class=\"colab-df-convert\" onclick=\"convertToInteractive('df-57f522df-6a62-4c7a-96c4-54e7927daeba')\"\n",
              "              title=\"Convert this dataframe to an interactive table.\"\n",
              "              style=\"display:none;\">\n",
              "        \n",
              "  <svg xmlns=\"http://www.w3.org/2000/svg\" height=\"24px\"viewBox=\"0 0 24 24\"\n",
              "       width=\"24px\">\n",
              "    <path d=\"M0 0h24v24H0V0z\" fill=\"none\"/>\n",
              "    <path d=\"M18.56 5.44l.94 2.06.94-2.06 2.06-.94-2.06-.94-.94-2.06-.94 2.06-2.06.94zm-11 1L8.5 8.5l.94-2.06 2.06-.94-2.06-.94L8.5 2.5l-.94 2.06-2.06.94zm10 10l.94 2.06.94-2.06 2.06-.94-2.06-.94-.94-2.06-.94 2.06-2.06.94z\"/><path d=\"M17.41 7.96l-1.37-1.37c-.4-.4-.92-.59-1.43-.59-.52 0-1.04.2-1.43.59L10.3 9.45l-7.72 7.72c-.78.78-.78 2.05 0 2.83L4 21.41c.39.39.9.59 1.41.59.51 0 1.02-.2 1.41-.59l7.78-7.78 2.81-2.81c.8-.78.8-2.07 0-2.86zM5.41 20L4 18.59l7.72-7.72 1.47 1.35L5.41 20z\"/>\n",
              "  </svg>\n",
              "      </button>\n",
              "      \n",
              "  <style>\n",
              "    .colab-df-container {\n",
              "      display:flex;\n",
              "      flex-wrap:wrap;\n",
              "      gap: 12px;\n",
              "    }\n",
              "\n",
              "    .colab-df-convert {\n",
              "      background-color: #E8F0FE;\n",
              "      border: none;\n",
              "      border-radius: 50%;\n",
              "      cursor: pointer;\n",
              "      display: none;\n",
              "      fill: #1967D2;\n",
              "      height: 32px;\n",
              "      padding: 0 0 0 0;\n",
              "      width: 32px;\n",
              "    }\n",
              "\n",
              "    .colab-df-convert:hover {\n",
              "      background-color: #E2EBFA;\n",
              "      box-shadow: 0px 1px 2px rgba(60, 64, 67, 0.3), 0px 1px 3px 1px rgba(60, 64, 67, 0.15);\n",
              "      fill: #174EA6;\n",
              "    }\n",
              "\n",
              "    [theme=dark] .colab-df-convert {\n",
              "      background-color: #3B4455;\n",
              "      fill: #D2E3FC;\n",
              "    }\n",
              "\n",
              "    [theme=dark] .colab-df-convert:hover {\n",
              "      background-color: #434B5C;\n",
              "      box-shadow: 0px 1px 3px 1px rgba(0, 0, 0, 0.15);\n",
              "      filter: drop-shadow(0px 1px 2px rgba(0, 0, 0, 0.3));\n",
              "      fill: #FFFFFF;\n",
              "    }\n",
              "  </style>\n",
              "\n",
              "      <script>\n",
              "        const buttonEl =\n",
              "          document.querySelector('#df-57f522df-6a62-4c7a-96c4-54e7927daeba button.colab-df-convert');\n",
              "        buttonEl.style.display =\n",
              "          google.colab.kernel.accessAllowed ? 'block' : 'none';\n",
              "\n",
              "        async function convertToInteractive(key) {\n",
              "          const element = document.querySelector('#df-57f522df-6a62-4c7a-96c4-54e7927daeba');\n",
              "          const dataTable =\n",
              "            await google.colab.kernel.invokeFunction('convertToInteractive',\n",
              "                                                     [key], {});\n",
              "          if (!dataTable) return;\n",
              "\n",
              "          const docLinkHtml = 'Like what you see? Visit the ' +\n",
              "            '<a target=\"_blank\" href=https://colab.research.google.com/notebooks/data_table.ipynb>data table notebook</a>'\n",
              "            + ' to learn more about interactive tables.';\n",
              "          element.innerHTML = '';\n",
              "          dataTable['output_type'] = 'display_data';\n",
              "          await google.colab.output.renderOutput(dataTable, element);\n",
              "          const docLink = document.createElement('div');\n",
              "          docLink.innerHTML = docLinkHtml;\n",
              "          element.appendChild(docLink);\n",
              "        }\n",
              "      </script>\n",
              "    </div>\n",
              "  </div>\n",
              "  "
            ]
          },
          "metadata": {},
          "execution_count": 36
        }
      ]
    },
    {
      "cell_type": "markdown",
      "source": [
        "# 20. Generate a data frame containing top 5 players by Overall rating for each unique position."
      ],
      "metadata": {
        "id": "FA9NjobbNsB7"
      }
    },
    {
      "cell_type": "code",
      "source": [
        "df_unique_position = df.groupby(by = ['Position']).apply(lambda x: x.sort_values('Overall', ascending = False).head(5))\n",
        "df_unique_position"
      ],
      "metadata": {
        "colab": {
          "base_uri": "https://localhost:8080/",
          "height": 693
        },
        "id": "2nyQ1mc_Ntmq",
        "outputId": "e7e6e09f-9c6c-4fbd-f908-65bb8deb6bd4"
      },
      "execution_count": 37,
      "outputs": [
        {
          "output_type": "execute_result",
          "data": {
            "text/plain": [
              "                          Name  Age Nationality  Overall  Potential  \\\n",
              "Position                                                              \n",
              "CAM      17       A. Griezmann   27      France       89         90   \n",
              "         31         C. Eriksen   26     Denmark       88         91   \n",
              "         61    Roberto Firmino   26      Brazil       86         87   \n",
              "         66          T. Müller   28     Germany       86         86   \n",
              "         74            M. Özil   29     Germany       86         86   \n",
              "...                        ...  ...         ...      ...        ...   \n",
              "ST       1   Cristiano Ronaldo   33    Portugal       94         94   \n",
              "         10     R. Lewandowski   29      Poland       90         90   \n",
              "         16            H. Kane   24     England       89         91   \n",
              "         23          S. Agüero   30   Argentina       89         89   \n",
              "         36            G. Bale   28       Wales       88         88   \n",
              "\n",
              "                          Club       Value      Wage Preferred Foot  \\\n",
              "Position                                                              \n",
              "CAM      17    Atlético Madrid  78000000.0  145000.0           Left   \n",
              "         31  Tottenham Hotspur  73500000.0  205000.0          Right   \n",
              "         61          Liverpool  53000000.0  195000.0          Right   \n",
              "         66  FC Bayern München  45000000.0  135000.0          Right   \n",
              "         74            Arsenal  43500000.0  190000.0           Left   \n",
              "...                        ...         ...       ...            ...   \n",
              "ST       1            Juventus  77000000.0  405000.0          Right   \n",
              "         10  FC Bayern München  77000000.0  205000.0          Right   \n",
              "         16  Tottenham Hotspur  83500000.0  205000.0          Right   \n",
              "         23    Manchester City  64500000.0  300000.0          Right   \n",
              "         36        Real Madrid  60000000.0  355000.0           Left   \n",
              "\n",
              "             International Reputation  ...  Composure  Marking StandingTackle  \\\n",
              "Position                               ...                                      \n",
              "CAM      17                       4.0  ...       87.0     59.0           47.0   \n",
              "         31                       3.0  ...       88.0     59.0           57.0   \n",
              "         61                       3.0  ...       87.0     60.0           64.0   \n",
              "         66                       4.0  ...       83.0     44.0           41.0   \n",
              "         74                       4.0  ...       82.0     24.0           16.0   \n",
              "...                               ...  ...        ...      ...            ...   \n",
              "ST       1                        5.0  ...       95.0     28.0           31.0   \n",
              "         10                       4.0  ...       86.0     34.0           42.0   \n",
              "         16                       3.0  ...       89.0     56.0           36.0   \n",
              "         23                       4.0  ...       90.0     30.0           20.0   \n",
              "         36                       4.0  ...       86.0     54.0           55.0   \n",
              "\n",
              "            SlidingTackle GKDiving  GKHandling  GKKicking GKPositioning  \\\n",
              "Position                                                                  \n",
              "CAM      17          48.0     14.0         8.0       14.0          13.0   \n",
              "         31          22.0      9.0        14.0        7.0           7.0   \n",
              "         61          42.0      8.0        11.0        9.0           6.0   \n",
              "         66          44.0      6.0         7.0       11.0          14.0   \n",
              "         74          19.0      6.0        14.0       10.0           6.0   \n",
              "...                   ...      ...         ...        ...           ...   \n",
              "ST       1           23.0      7.0        11.0       15.0          14.0   \n",
              "         10          19.0     15.0         6.0       12.0           8.0   \n",
              "         16          38.0      8.0        10.0       11.0          14.0   \n",
              "         23          12.0     13.0        15.0        6.0          11.0   \n",
              "         36          52.0     15.0        15.0       11.0           5.0   \n",
              "\n",
              "             GKReflexes  Release Clause  \n",
              "Position                                 \n",
              "CAM      17        14.0     165800000.0  \n",
              "         31         6.0     141500000.0  \n",
              "         61        10.0     104700000.0  \n",
              "         66        14.0      74300000.0  \n",
              "         74        14.0      82700000.0  \n",
              "...                 ...             ...  \n",
              "ST       1         11.0     127100000.0  \n",
              "         10        10.0     127100000.0  \n",
              "         16        11.0     160700000.0  \n",
              "         23        14.0     119300000.0  \n",
              "         36         6.0     123000000.0  \n",
              "\n",
              "[135 rows x 55 columns]"
            ],
            "text/html": [
              "\n",
              "  <div id=\"df-f62bb2f0-2342-4026-91fe-c66b074fd010\">\n",
              "    <div class=\"colab-df-container\">\n",
              "      <div>\n",
              "<style scoped>\n",
              "    .dataframe tbody tr th:only-of-type {\n",
              "        vertical-align: middle;\n",
              "    }\n",
              "\n",
              "    .dataframe tbody tr th {\n",
              "        vertical-align: top;\n",
              "    }\n",
              "\n",
              "    .dataframe thead th {\n",
              "        text-align: right;\n",
              "    }\n",
              "</style>\n",
              "<table border=\"1\" class=\"dataframe\">\n",
              "  <thead>\n",
              "    <tr style=\"text-align: right;\">\n",
              "      <th></th>\n",
              "      <th></th>\n",
              "      <th>Name</th>\n",
              "      <th>Age</th>\n",
              "      <th>Nationality</th>\n",
              "      <th>Overall</th>\n",
              "      <th>Potential</th>\n",
              "      <th>Club</th>\n",
              "      <th>Value</th>\n",
              "      <th>Wage</th>\n",
              "      <th>Preferred Foot</th>\n",
              "      <th>International Reputation</th>\n",
              "      <th>...</th>\n",
              "      <th>Composure</th>\n",
              "      <th>Marking</th>\n",
              "      <th>StandingTackle</th>\n",
              "      <th>SlidingTackle</th>\n",
              "      <th>GKDiving</th>\n",
              "      <th>GKHandling</th>\n",
              "      <th>GKKicking</th>\n",
              "      <th>GKPositioning</th>\n",
              "      <th>GKReflexes</th>\n",
              "      <th>Release Clause</th>\n",
              "    </tr>\n",
              "    <tr>\n",
              "      <th>Position</th>\n",
              "      <th></th>\n",
              "      <th></th>\n",
              "      <th></th>\n",
              "      <th></th>\n",
              "      <th></th>\n",
              "      <th></th>\n",
              "      <th></th>\n",
              "      <th></th>\n",
              "      <th></th>\n",
              "      <th></th>\n",
              "      <th></th>\n",
              "      <th></th>\n",
              "      <th></th>\n",
              "      <th></th>\n",
              "      <th></th>\n",
              "      <th></th>\n",
              "      <th></th>\n",
              "      <th></th>\n",
              "      <th></th>\n",
              "      <th></th>\n",
              "      <th></th>\n",
              "      <th></th>\n",
              "    </tr>\n",
              "  </thead>\n",
              "  <tbody>\n",
              "    <tr>\n",
              "      <th rowspan=\"5\" valign=\"top\">CAM</th>\n",
              "      <th>17</th>\n",
              "      <td>A. Griezmann</td>\n",
              "      <td>27</td>\n",
              "      <td>France</td>\n",
              "      <td>89</td>\n",
              "      <td>90</td>\n",
              "      <td>Atlético Madrid</td>\n",
              "      <td>78000000.0</td>\n",
              "      <td>145000.0</td>\n",
              "      <td>Left</td>\n",
              "      <td>4.0</td>\n",
              "      <td>...</td>\n",
              "      <td>87.0</td>\n",
              "      <td>59.0</td>\n",
              "      <td>47.0</td>\n",
              "      <td>48.0</td>\n",
              "      <td>14.0</td>\n",
              "      <td>8.0</td>\n",
              "      <td>14.0</td>\n",
              "      <td>13.0</td>\n",
              "      <td>14.0</td>\n",
              "      <td>165800000.0</td>\n",
              "    </tr>\n",
              "    <tr>\n",
              "      <th>31</th>\n",
              "      <td>C. Eriksen</td>\n",
              "      <td>26</td>\n",
              "      <td>Denmark</td>\n",
              "      <td>88</td>\n",
              "      <td>91</td>\n",
              "      <td>Tottenham Hotspur</td>\n",
              "      <td>73500000.0</td>\n",
              "      <td>205000.0</td>\n",
              "      <td>Right</td>\n",
              "      <td>3.0</td>\n",
              "      <td>...</td>\n",
              "      <td>88.0</td>\n",
              "      <td>59.0</td>\n",
              "      <td>57.0</td>\n",
              "      <td>22.0</td>\n",
              "      <td>9.0</td>\n",
              "      <td>14.0</td>\n",
              "      <td>7.0</td>\n",
              "      <td>7.0</td>\n",
              "      <td>6.0</td>\n",
              "      <td>141500000.0</td>\n",
              "    </tr>\n",
              "    <tr>\n",
              "      <th>61</th>\n",
              "      <td>Roberto Firmino</td>\n",
              "      <td>26</td>\n",
              "      <td>Brazil</td>\n",
              "      <td>86</td>\n",
              "      <td>87</td>\n",
              "      <td>Liverpool</td>\n",
              "      <td>53000000.0</td>\n",
              "      <td>195000.0</td>\n",
              "      <td>Right</td>\n",
              "      <td>3.0</td>\n",
              "      <td>...</td>\n",
              "      <td>87.0</td>\n",
              "      <td>60.0</td>\n",
              "      <td>64.0</td>\n",
              "      <td>42.0</td>\n",
              "      <td>8.0</td>\n",
              "      <td>11.0</td>\n",
              "      <td>9.0</td>\n",
              "      <td>6.0</td>\n",
              "      <td>10.0</td>\n",
              "      <td>104700000.0</td>\n",
              "    </tr>\n",
              "    <tr>\n",
              "      <th>66</th>\n",
              "      <td>T. Müller</td>\n",
              "      <td>28</td>\n",
              "      <td>Germany</td>\n",
              "      <td>86</td>\n",
              "      <td>86</td>\n",
              "      <td>FC Bayern München</td>\n",
              "      <td>45000000.0</td>\n",
              "      <td>135000.0</td>\n",
              "      <td>Right</td>\n",
              "      <td>4.0</td>\n",
              "      <td>...</td>\n",
              "      <td>83.0</td>\n",
              "      <td>44.0</td>\n",
              "      <td>41.0</td>\n",
              "      <td>44.0</td>\n",
              "      <td>6.0</td>\n",
              "      <td>7.0</td>\n",
              "      <td>11.0</td>\n",
              "      <td>14.0</td>\n",
              "      <td>14.0</td>\n",
              "      <td>74300000.0</td>\n",
              "    </tr>\n",
              "    <tr>\n",
              "      <th>74</th>\n",
              "      <td>M. Özil</td>\n",
              "      <td>29</td>\n",
              "      <td>Germany</td>\n",
              "      <td>86</td>\n",
              "      <td>86</td>\n",
              "      <td>Arsenal</td>\n",
              "      <td>43500000.0</td>\n",
              "      <td>190000.0</td>\n",
              "      <td>Left</td>\n",
              "      <td>4.0</td>\n",
              "      <td>...</td>\n",
              "      <td>82.0</td>\n",
              "      <td>24.0</td>\n",
              "      <td>16.0</td>\n",
              "      <td>19.0</td>\n",
              "      <td>6.0</td>\n",
              "      <td>14.0</td>\n",
              "      <td>10.0</td>\n",
              "      <td>6.0</td>\n",
              "      <td>14.0</td>\n",
              "      <td>82700000.0</td>\n",
              "    </tr>\n",
              "    <tr>\n",
              "      <th>...</th>\n",
              "      <th>...</th>\n",
              "      <td>...</td>\n",
              "      <td>...</td>\n",
              "      <td>...</td>\n",
              "      <td>...</td>\n",
              "      <td>...</td>\n",
              "      <td>...</td>\n",
              "      <td>...</td>\n",
              "      <td>...</td>\n",
              "      <td>...</td>\n",
              "      <td>...</td>\n",
              "      <td>...</td>\n",
              "      <td>...</td>\n",
              "      <td>...</td>\n",
              "      <td>...</td>\n",
              "      <td>...</td>\n",
              "      <td>...</td>\n",
              "      <td>...</td>\n",
              "      <td>...</td>\n",
              "      <td>...</td>\n",
              "      <td>...</td>\n",
              "      <td>...</td>\n",
              "    </tr>\n",
              "    <tr>\n",
              "      <th rowspan=\"5\" valign=\"top\">ST</th>\n",
              "      <th>1</th>\n",
              "      <td>Cristiano Ronaldo</td>\n",
              "      <td>33</td>\n",
              "      <td>Portugal</td>\n",
              "      <td>94</td>\n",
              "      <td>94</td>\n",
              "      <td>Juventus</td>\n",
              "      <td>77000000.0</td>\n",
              "      <td>405000.0</td>\n",
              "      <td>Right</td>\n",
              "      <td>5.0</td>\n",
              "      <td>...</td>\n",
              "      <td>95.0</td>\n",
              "      <td>28.0</td>\n",
              "      <td>31.0</td>\n",
              "      <td>23.0</td>\n",
              "      <td>7.0</td>\n",
              "      <td>11.0</td>\n",
              "      <td>15.0</td>\n",
              "      <td>14.0</td>\n",
              "      <td>11.0</td>\n",
              "      <td>127100000.0</td>\n",
              "    </tr>\n",
              "    <tr>\n",
              "      <th>10</th>\n",
              "      <td>R. Lewandowski</td>\n",
              "      <td>29</td>\n",
              "      <td>Poland</td>\n",
              "      <td>90</td>\n",
              "      <td>90</td>\n",
              "      <td>FC Bayern München</td>\n",
              "      <td>77000000.0</td>\n",
              "      <td>205000.0</td>\n",
              "      <td>Right</td>\n",
              "      <td>4.0</td>\n",
              "      <td>...</td>\n",
              "      <td>86.0</td>\n",
              "      <td>34.0</td>\n",
              "      <td>42.0</td>\n",
              "      <td>19.0</td>\n",
              "      <td>15.0</td>\n",
              "      <td>6.0</td>\n",
              "      <td>12.0</td>\n",
              "      <td>8.0</td>\n",
              "      <td>10.0</td>\n",
              "      <td>127100000.0</td>\n",
              "    </tr>\n",
              "    <tr>\n",
              "      <th>16</th>\n",
              "      <td>H. Kane</td>\n",
              "      <td>24</td>\n",
              "      <td>England</td>\n",
              "      <td>89</td>\n",
              "      <td>91</td>\n",
              "      <td>Tottenham Hotspur</td>\n",
              "      <td>83500000.0</td>\n",
              "      <td>205000.0</td>\n",
              "      <td>Right</td>\n",
              "      <td>3.0</td>\n",
              "      <td>...</td>\n",
              "      <td>89.0</td>\n",
              "      <td>56.0</td>\n",
              "      <td>36.0</td>\n",
              "      <td>38.0</td>\n",
              "      <td>8.0</td>\n",
              "      <td>10.0</td>\n",
              "      <td>11.0</td>\n",
              "      <td>14.0</td>\n",
              "      <td>11.0</td>\n",
              "      <td>160700000.0</td>\n",
              "    </tr>\n",
              "    <tr>\n",
              "      <th>23</th>\n",
              "      <td>S. Agüero</td>\n",
              "      <td>30</td>\n",
              "      <td>Argentina</td>\n",
              "      <td>89</td>\n",
              "      <td>89</td>\n",
              "      <td>Manchester City</td>\n",
              "      <td>64500000.0</td>\n",
              "      <td>300000.0</td>\n",
              "      <td>Right</td>\n",
              "      <td>4.0</td>\n",
              "      <td>...</td>\n",
              "      <td>90.0</td>\n",
              "      <td>30.0</td>\n",
              "      <td>20.0</td>\n",
              "      <td>12.0</td>\n",
              "      <td>13.0</td>\n",
              "      <td>15.0</td>\n",
              "      <td>6.0</td>\n",
              "      <td>11.0</td>\n",
              "      <td>14.0</td>\n",
              "      <td>119300000.0</td>\n",
              "    </tr>\n",
              "    <tr>\n",
              "      <th>36</th>\n",
              "      <td>G. Bale</td>\n",
              "      <td>28</td>\n",
              "      <td>Wales</td>\n",
              "      <td>88</td>\n",
              "      <td>88</td>\n",
              "      <td>Real Madrid</td>\n",
              "      <td>60000000.0</td>\n",
              "      <td>355000.0</td>\n",
              "      <td>Left</td>\n",
              "      <td>4.0</td>\n",
              "      <td>...</td>\n",
              "      <td>86.0</td>\n",
              "      <td>54.0</td>\n",
              "      <td>55.0</td>\n",
              "      <td>52.0</td>\n",
              "      <td>15.0</td>\n",
              "      <td>15.0</td>\n",
              "      <td>11.0</td>\n",
              "      <td>5.0</td>\n",
              "      <td>6.0</td>\n",
              "      <td>123000000.0</td>\n",
              "    </tr>\n",
              "  </tbody>\n",
              "</table>\n",
              "<p>135 rows × 55 columns</p>\n",
              "</div>\n",
              "      <button class=\"colab-df-convert\" onclick=\"convertToInteractive('df-f62bb2f0-2342-4026-91fe-c66b074fd010')\"\n",
              "              title=\"Convert this dataframe to an interactive table.\"\n",
              "              style=\"display:none;\">\n",
              "        \n",
              "  <svg xmlns=\"http://www.w3.org/2000/svg\" height=\"24px\"viewBox=\"0 0 24 24\"\n",
              "       width=\"24px\">\n",
              "    <path d=\"M0 0h24v24H0V0z\" fill=\"none\"/>\n",
              "    <path d=\"M18.56 5.44l.94 2.06.94-2.06 2.06-.94-2.06-.94-.94-2.06-.94 2.06-2.06.94zm-11 1L8.5 8.5l.94-2.06 2.06-.94-2.06-.94L8.5 2.5l-.94 2.06-2.06.94zm10 10l.94 2.06.94-2.06 2.06-.94-2.06-.94-.94-2.06-.94 2.06-2.06.94z\"/><path d=\"M17.41 7.96l-1.37-1.37c-.4-.4-.92-.59-1.43-.59-.52 0-1.04.2-1.43.59L10.3 9.45l-7.72 7.72c-.78.78-.78 2.05 0 2.83L4 21.41c.39.39.9.59 1.41.59.51 0 1.02-.2 1.41-.59l7.78-7.78 2.81-2.81c.8-.78.8-2.07 0-2.86zM5.41 20L4 18.59l7.72-7.72 1.47 1.35L5.41 20z\"/>\n",
              "  </svg>\n",
              "      </button>\n",
              "      \n",
              "  <style>\n",
              "    .colab-df-container {\n",
              "      display:flex;\n",
              "      flex-wrap:wrap;\n",
              "      gap: 12px;\n",
              "    }\n",
              "\n",
              "    .colab-df-convert {\n",
              "      background-color: #E8F0FE;\n",
              "      border: none;\n",
              "      border-radius: 50%;\n",
              "      cursor: pointer;\n",
              "      display: none;\n",
              "      fill: #1967D2;\n",
              "      height: 32px;\n",
              "      padding: 0 0 0 0;\n",
              "      width: 32px;\n",
              "    }\n",
              "\n",
              "    .colab-df-convert:hover {\n",
              "      background-color: #E2EBFA;\n",
              "      box-shadow: 0px 1px 2px rgba(60, 64, 67, 0.3), 0px 1px 3px 1px rgba(60, 64, 67, 0.15);\n",
              "      fill: #174EA6;\n",
              "    }\n",
              "\n",
              "    [theme=dark] .colab-df-convert {\n",
              "      background-color: #3B4455;\n",
              "      fill: #D2E3FC;\n",
              "    }\n",
              "\n",
              "    [theme=dark] .colab-df-convert:hover {\n",
              "      background-color: #434B5C;\n",
              "      box-shadow: 0px 1px 3px 1px rgba(0, 0, 0, 0.15);\n",
              "      filter: drop-shadow(0px 1px 2px rgba(0, 0, 0, 0.3));\n",
              "      fill: #FFFFFF;\n",
              "    }\n",
              "  </style>\n",
              "\n",
              "      <script>\n",
              "        const buttonEl =\n",
              "          document.querySelector('#df-f62bb2f0-2342-4026-91fe-c66b074fd010 button.colab-df-convert');\n",
              "        buttonEl.style.display =\n",
              "          google.colab.kernel.accessAllowed ? 'block' : 'none';\n",
              "\n",
              "        async function convertToInteractive(key) {\n",
              "          const element = document.querySelector('#df-f62bb2f0-2342-4026-91fe-c66b074fd010');\n",
              "          const dataTable =\n",
              "            await google.colab.kernel.invokeFunction('convertToInteractive',\n",
              "                                                     [key], {});\n",
              "          if (!dataTable) return;\n",
              "\n",
              "          const docLinkHtml = 'Like what you see? Visit the ' +\n",
              "            '<a target=\"_blank\" href=https://colab.research.google.com/notebooks/data_table.ipynb>data table notebook</a>'\n",
              "            + ' to learn more about interactive tables.';\n",
              "          element.innerHTML = '';\n",
              "          dataTable['output_type'] = 'display_data';\n",
              "          await google.colab.output.renderOutput(dataTable, element);\n",
              "          const docLink = document.createElement('div');\n",
              "          docLink.innerHTML = docLinkHtml;\n",
              "          element.appendChild(docLink);\n",
              "        }\n",
              "      </script>\n",
              "    </div>\n",
              "  </div>\n",
              "  "
            ]
          },
          "metadata": {},
          "execution_count": 37
        }
      ]
    },
    {
      "cell_type": "markdown",
      "source": [
        "# 21. What is the average wage one can expect to pay for the top 5 players in every position? (use the data frame created in Q19)"
      ],
      "metadata": {
        "id": "MiXq2wdPN3N4"
      }
    },
    {
      "cell_type": "code",
      "source": [
        "df_unique_position['Wage'].groupby('Position').mean()"
      ],
      "metadata": {
        "colab": {
          "base_uri": "https://localhost:8080/"
        },
        "id": "yuIUMhprN4_A",
        "outputId": "1b5d84ad-c77e-4f50-988c-51cfe80a66f0"
      },
      "execution_count": 38,
      "outputs": [
        {
          "output_type": "execute_result",
          "data": {
            "text/plain": [
              "Position\n",
              "CAM    174000.0\n",
              "CB     139600.0\n",
              "CDM    217000.0\n",
              "CF      47400.0\n",
              "CM     130600.0\n",
              "GK     192800.0\n",
              "LAM     81600.0\n",
              "LB     177200.0\n",
              "LCB    162000.0\n",
              "LCM    184400.0\n",
              "LDM    126600.0\n",
              "LF     121200.0\n",
              "LM     164600.0\n",
              "LS     130200.0\n",
              "LW     261000.0\n",
              "LWB     34200.0\n",
              "RAM     45400.0\n",
              "RB     155400.0\n",
              "RCB    231000.0\n",
              "RCM    240800.0\n",
              "RDM    105000.0\n",
              "RF     148000.0\n",
              "RM     131400.0\n",
              "RS     132200.0\n",
              "RW     202000.0\n",
              "RWB     44200.0\n",
              "ST     294000.0\n",
              "Name: Wage, dtype: float64"
            ]
          },
          "metadata": {},
          "execution_count": 38
        }
      ]
    }
  ]
}